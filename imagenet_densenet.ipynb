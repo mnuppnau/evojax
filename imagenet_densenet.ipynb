{
 "cells": [
  {
   "cell_type": "code",
   "execution_count": 1,
   "id": "5eabe46e-e9b3-41d3-aad0-717bdc9e70e0",
   "metadata": {},
   "outputs": [
    {
     "name": "stderr",
     "output_type": "stream",
     "text": [
      "/tmp/ipykernel_1537994/2670370047.py:13: DeprecationWarning: `set_matplotlib_formats` is deprecated since IPython 7.23, directly use `matplotlib_inline.backend_inline.set_matplotlib_formats()`\n",
      "  set_matplotlib_formats('svg', 'pdf') # For export\n",
      "WARNING:absl:Tensorflow library not found, tensorflow.io.gfile operations will use native shim calls. GCS paths (i.e. 'gs://...') cannot be accessed.\n"
     ]
    }
   ],
   "source": [
    "## Standard libraries\n",
    "import os\n",
    "import numpy as np\n",
    "from PIL import Image\n",
    "from typing import Any\n",
    "from collections import defaultdict\n",
    "import time\n",
    "\n",
    "## Imports for plotting\n",
    "import matplotlib.pyplot as plt\n",
    "%matplotlib inline\n",
    "from IPython.display import set_matplotlib_formats\n",
    "set_matplotlib_formats('svg', 'pdf') # For export\n",
    "import matplotlib\n",
    "matplotlib.rcParams['lines.linewidth'] = 2.0\n",
    "\n",
    "\n",
    "## To run JAX on TPU in Google Colab, uncomment the two lines below\n",
    "# import jax.tools.colab_tpu\n",
    "# jax.tools.colab_tpu.setup_tpu()\n",
    "\n",
    "## JAX\n",
    "import jax\n",
    "import jax.numpy as jnp\n",
    "from jax import random\n",
    "# Seeding for random operations\n",
    "main_rng = random.PRNGKey(42)\n",
    "\n",
    "## Flax (NN in JAX)\n",
    "try:\n",
    "    import flax\n",
    "except ModuleNotFoundError: # Install flax if missing\n",
    "    !pip install --quiet flax\n",
    "    import flax\n",
    "from flax import linen as nn\n",
    "from flax.training import train_state, checkpoints\n",
    "import orbax\n",
    "from orbax import checkpoint\n",
    "from flax.training import orbax_utils\n",
    "\n",
    "## Optax (Optimizers in JAX)\n",
    "try:\n",
    "    import optax\n",
    "except ModuleNotFoundError: # Install optax if missing\n",
    "    !pip install --quiet optax\n",
    "    import optax\n",
    "\n",
    "## PyTorch\n",
    "import torch\n",
    "import torch.utils.data as data\n",
    "import torchvision\n",
    "from torchvision import transforms\n",
    "from torchvision.datasets import CIFAR10"
   ]
  },
  {
   "cell_type": "code",
   "execution_count": 2,
   "id": "6c758061-a70a-4e07-9b76-2e64572e5bd2",
   "metadata": {},
   "outputs": [],
   "source": [
    "import os\n",
    "import sys\n",
    "import jax\n",
    "import zipfile\n",
    "import jax.numpy as jnp\n",
    "import optax\n",
    "import torch\n",
    "from tqdm.notebook import tqdm\n",
    "from torch.utils.tensorboard import SummaryWriter\n",
    "import torchvision.transforms as T\n",
    "import pandas as pd\n",
    "import numpy as np\n",
    "import argparse\n",
    "\n",
    "from jax.example_libraries import optimizers\n",
    "from sklearn.metrics import average_precision_score\n",
    "from PIL import Image\n",
    "from torch.utils.data import DataLoader\n",
    "from torch.utils import data\n",
    "from urllib import request\n",
    "from typing import Tuple\n",
    "from torch.utils.data import Dataset\n",
    "from flax.struct import dataclass\n",
    "from jax.tree_util import tree_map\n",
    "from evojax.task.base import VectorizedTask\n",
    "from evojax.task.base import TaskState"
   ]
  },
  {
   "cell_type": "code",
   "execution_count": 4,
   "id": "5eaa895e-9c79-4703-94bd-498f315cd7b1",
   "metadata": {},
   "outputs": [
    {
     "name": "stdout",
     "output_type": "stream",
     "text": [
      "Device: [gpu(id=0), gpu(id=1)]\n"
     ]
    }
   ],
   "source": [
    "print(\"Device:\", jax.devices())"
   ]
  },
  {
   "cell_type": "code",
   "execution_count": 5,
   "id": "56122640-5f4e-427b-83a2-4650699c8e68",
   "metadata": {},
   "outputs": [],
   "source": [
    "# Path to the folder where the datasets are/should be downloaded (e.g. CIFAR10)\n",
    "DATASET_PATH = './data/'\n",
    "CHECKPOINT_PATH = '/home/gh0st/projects/evojax/notebook_output/saved_models'"
   ]
  },
  {
   "cell_type": "code",
   "execution_count": 6,
   "id": "4491dc68-bf76-446c-828d-34ce183d0f84",
   "metadata": {},
   "outputs": [
    {
     "data": {
      "text/plain": [
       "'/home/gh0st/projects/evojax/notebook_output/saved_models'"
      ]
     },
     "execution_count": 6,
     "metadata": {},
     "output_type": "execute_result"
    }
   ],
   "source": [
    "os.fspath(CHECKPOINT_PATH)"
   ]
  },
  {
   "cell_type": "code",
   "execution_count": 7,
   "id": "79183cae-dfad-4f8e-890f-8dce84cfd6e7",
   "metadata": {},
   "outputs": [
    {
     "name": "stdout",
     "output_type": "stream",
     "text": [
      "Files already downloaded and verified\n",
      "Data mean [0.49139968 0.48215841 0.44653091]\n",
      "Data std [0.24703223 0.24348513 0.26158784]\n"
     ]
    }
   ],
   "source": [
    "train_dataset = CIFAR10(root=DATASET_PATH, train=True, download=True)\n",
    "DATA_MEANS = (train_dataset.data / 255.0).mean(axis=(0,1,2))\n",
    "DATA_STD = (train_dataset.data / 255.0).std(axis=(0,1,2))\n",
    "print(\"Data mean\", DATA_MEANS)\n",
    "print(\"Data std\", DATA_STD)"
   ]
  },
  {
   "cell_type": "code",
   "execution_count": 8,
   "id": "1040a822-a435-4cbb-b99c-c46c69ceaeb5",
   "metadata": {},
   "outputs": [
    {
     "name": "stdout",
     "output_type": "stream",
     "text": [
      "Files already downloaded and verified\n",
      "Files already downloaded and verified\n",
      "Files already downloaded and verified\n"
     ]
    }
   ],
   "source": [
    "# Transformations applied on each image => bring them into a numpy array\n",
    "def image_to_numpy(img):\n",
    "    img = np.array(img, dtype=np.float32)\n",
    "    img = (img / 255. - DATA_MEANS) / DATA_STD\n",
    "    return img\n",
    "\n",
    "# We need to stack the batch elements\n",
    "def numpy_collate(batch):\n",
    "    if isinstance(batch[0], np.ndarray):\n",
    "        return np.stack(batch)\n",
    "    elif isinstance(batch[0], (tuple,list)):\n",
    "        transposed = zip(*batch)\n",
    "        return [numpy_collate(samples) for samples in transposed]\n",
    "    else:\n",
    "        return np.array(batch)\n",
    "\n",
    "\n",
    "test_transform = image_to_numpy\n",
    "# For training, we add some augmentation. Networks are too powerful and would overfit.\n",
    "train_transform = transforms.Compose([transforms.RandomHorizontalFlip(),\n",
    "                                      transforms.RandomResizedCrop((32,32),scale=(0.8,1.0),ratio=(0.9,1.1)),\n",
    "                                      image_to_numpy\n",
    "                                     ])\n",
    "# Loading the training dataset. We need to split it into a training and validation part\n",
    "# We need to do a little trick because the validation set should not use the augmentation.\n",
    "train_dataset = CIFAR10(root=DATASET_PATH, train=True, transform=train_transform, download=True)\n",
    "val_dataset = CIFAR10(root=DATASET_PATH, train=True, transform=test_transform, download=True)\n",
    "train_set, _ = torch.utils.data.random_split(train_dataset, [45000, 5000], generator=torch.Generator().manual_seed(42))\n",
    "_, val_set = torch.utils.data.random_split(val_dataset, [45000, 5000], generator=torch.Generator().manual_seed(42))\n",
    "\n",
    "# Loading the test set\n",
    "test_set = CIFAR10(root=DATASET_PATH, train=False, transform=test_transform, download=True)\n",
    "\n",
    "# We define a set of data loaders that we can use for training and validation\n",
    "train_loader = data.DataLoader(train_set,\n",
    "                               batch_size=128,\n",
    "                               shuffle=True,\n",
    "                               drop_last=True,\n",
    "                               collate_fn=numpy_collate,\n",
    "                               num_workers=8,\n",
    "                               persistent_workers=True)\n",
    "val_loader   = data.DataLoader(val_set,\n",
    "                               batch_size=128,\n",
    "                               shuffle=False,\n",
    "                               drop_last=False,\n",
    "                               collate_fn=numpy_collate,\n",
    "                               num_workers=4,\n",
    "                               persistent_workers=True)\n",
    "test_loader  = data.DataLoader(test_set,\n",
    "                               batch_size=128,\n",
    "                               shuffle=False,\n",
    "                               drop_last=False,\n",
    "                               collate_fn=numpy_collate,\n",
    "                               num_workers=4,\n",
    "                               persistent_workers=True)\n"
   ]
  },
  {
   "cell_type": "code",
   "execution_count": 9,
   "id": "dfa005cf-975e-4aa8-ad45-79516959d065",
   "metadata": {},
   "outputs": [
    {
     "name": "stdout",
     "output_type": "stream",
     "text": [
      "Batch mean [ 0.01389681  0.01511452 -0.00052855]\n",
      "Batch std [0.97128042 0.99114585 1.01040982]\n"
     ]
    }
   ],
   "source": [
    "imgs, _ = next(iter(train_loader))\n",
    "print(\"Batch mean\", imgs.mean(axis=(0,1,2)))\n",
    "print(\"Batch std\", imgs.std(axis=(0,1,2)))"
   ]
  },
  {
   "cell_type": "code",
   "execution_count": 10,
   "id": "00361d3f-d94f-46f7-ba1d-d3b12010c2e3",
   "metadata": {},
   "outputs": [
    {
     "data": {
      "application/pdf": "[encoded data removed]",
      "image/svg+xml": [
       "<?xml version=\"1.0\" encoding=\"utf-8\" standalone=\"no\"?>\n",
       "<!DOCTYPE svg PUBLIC \"-//W3C//DTD SVG 1.1//EN\"\n",
       "  \"http://www.w3.org/Graphics/SVG/1.1/DTD/svg11.dtd\">\n",
       "<svg xmlns:xlink=\"http://www.w3.org/1999/xlink\" width=\"460.8pt\" height=\"255.952908pt\" viewBox=\"0 0 460.8 255.952908\" xmlns=\"http://www.w3.org/2000/svg\" version=\"1.1\">\n",
       " <metadata>\n",
       "  <rdf:RDF xmlns:dc=\"http://purl.org/dc/elements/1.1/\" xmlns:cc=\"http://creativecommons.org/ns#\" xmlns:rdf=\"http://www.w3.org/1999/02/22-rdf-syntax-ns#\">\n",
       "   <cc:Work>\n",
       "    <dc:type rdf:resource=\"http://purl.org/dc/dcmitype/StillImage\"/>\n",
       "    <dc:date>2024-01-12T19:47:30.771118</dc:date>\n",
       "    <dc:format>image/svg+xml</dc:format>\n",
       "    <dc:creator>\n",
       "     <cc:Agent>\n",
       "      <dc:title>Matplotlib v3.8.2, https://matplotlib.org/</dc:title>\n",
       "     </cc:Agent>\n",
       "    </dc:creator>\n",
       "   </cc:Work>\n",
       "  </rdf:RDF>\n",
       " </metadata>\n",
       " <defs>\n",
       "  <style type=\"text/css\">*{stroke-linejoin: round; stroke-linecap: butt}</style>\n",
       " </defs>\n",
       " <g id=\"figure_1\">\n",
       "  <g id=\"patch_1\">\n",
       "   <path d=\"M 0 255.952908 \n",
       "L 460.8 255.952908 \n",
       "L 460.8 0 \n",
       "L 0 0 \n",
       "z\n",
       "\" style=\"fill: #ffffff\"/>\n",
       "  </g>\n",
       "  <g id=\"axes_1\">\n",
       "   <g clip-path=\"url(#p736bf3c3d5)\">\n",
       "    <image xlink:href=\"data:image/png;base64,\n",
       "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\" id=\"image0bf0b9acb5\" transform=\"scale(1 -1) translate(0 -226.8)\" x=\"7.2\" y=\"-21.952908\" width=\"446.4\" height=\"226.8\"/>\n",
       "   </g>\n",
       "   <g id=\"text_1\">\n",
       "    <!-- Augmentation examples on CIFAR10 (Top: augmented, bottom: original) -->\n",
       "    <g transform=\"translate(13.913437 16.318125) scale(0.12 -0.12)\">\n",
       "     <defs>\n",
       "      <path id=\"DejaVuSans-41\" d=\"M 2188 4044 \n",
       "L 1331 1722 \n",
       "L 3047 1722 \n",
       "L 2188 4044 \n",
       "z\n",
       "M 1831 4666 \n",
       "L 2547 4666 \n",
       "L 4325 0 \n",
       "L 3669 0 \n",
       "L 3244 1197 \n",
       "L 1141 1197 \n",
       "L 716 0 \n",
       "L 50 0 \n",
       "L 1831 4666 \n",
       "z\n",
       "\" transform=\"scale(0.015625)\"/>\n",
       "      <path id=\"DejaVuSans-75\" d=\"M 544 1381 \n",
       "L 544 3500 \n",
       "L 1119 3500 \n",
       "L 1119 1403 \n",
       "Q 1119 906 1312 657 \n",
       "Q 1506 409 1894 409 \n",
       "Q 2359 409 2629 706 \n",
       "Q 2900 1003 2900 1516 \n",
       "L 2900 3500 \n",
       "L 3475 3500 \n",
       "L 3475 0 \n",
       "L 2900 0 \n",
       "L 2900 538 \n",
       "Q 2691 219 2414 64 \n",
       "Q 2138 -91 1772 -91 \n",
       "Q 1169 -91 856 284 \n",
       "Q 544 659 544 1381 \n",
       "z\n",
       "M 1991 3584 \n",
       "L 1991 3584 \n",
       "z\n",
       "\" transform=\"scale(0.015625)\"/>\n",
       "      <path id=\"DejaVuSans-67\" d=\"M 2906 1791 \n",
       "Q 2906 2416 2648 2759 \n",
       "Q 2391 3103 1925 3103 \n",
       "Q 1463 3103 1205 2759 \n",
       "Q 947 2416 947 1791 \n",
       "Q 947 1169 1205 825 \n",
       "Q 1463 481 1925 481 \n",
       "Q 2391 481 2648 825 \n",
       "Q 2906 1169 2906 1791 \n",
       "z\n",
       "M 3481 434 \n",
       "Q 3481 -459 3084 -895 \n",
       "Q 2688 -1331 1869 -1331 \n",
       "Q 1566 -1331 1297 -1286 \n",
       "Q 1028 -1241 775 -1147 \n",
       "L 775 -588 \n",
       "Q 1028 -725 1275 -790 \n",
       "Q 1522 -856 1778 -856 \n",
       "Q 2344 -856 2625 -561 \n",
       "Q 2906 -266 2906 331 \n",
       "L 2906 616 \n",
       "Q 2728 306 2450 153 \n",
       "Q 2172 0 1784 0 \n",
       "Q 1141 0 747 490 \n",
       "Q 353 981 353 1791 \n",
       "Q 353 2603 747 3093 \n",
       "Q 1141 3584 1784 3584 \n",
       "Q 2172 3584 2450 3431 \n",
       "Q 2728 3278 2906 2969 \n",
       "L 2906 3500 \n",
       "L 3481 3500 \n",
       "L 3481 434 \n",
       "z\n",
       "\" transform=\"scale(0.015625)\"/>\n",
       "      <path id=\"DejaVuSans-6d\" d=\"M 3328 2828 \n",
       "Q 3544 3216 3844 3400 \n",
       "Q 4144 3584 4550 3584 \n",
       "Q 5097 3584 5394 3201 \n",
       "Q 5691 2819 5691 2113 \n",
       "L 5691 0 \n",
       "L 5113 0 \n",
       "L 5113 2094 \n",
       "Q 5113 2597 4934 2840 \n",
       "Q 4756 3084 4391 3084 \n",
       "Q 3944 3084 3684 2787 \n",
       "Q 3425 2491 3425 1978 \n",
       "L 3425 0 \n",
       "L 2847 0 \n",
       "L 2847 2094 \n",
       "Q 2847 2600 2669 2842 \n",
       "Q 2491 3084 2119 3084 \n",
       "Q 1678 3084 1418 2786 \n",
       "Q 1159 2488 1159 1978 \n",
       "L 1159 0 \n",
       "L 581 0 \n",
       "L 581 3500 \n",
       "L 1159 3500 \n",
       "L 1159 2956 \n",
       "Q 1356 3278 1631 3431 \n",
       "Q 1906 3584 2284 3584 \n",
       "Q 2666 3584 2933 3390 \n",
       "Q 3200 3197 3328 2828 \n",
       "z\n",
       "\" transform=\"scale(0.015625)\"/>\n",
       "      <path id=\"DejaVuSans-65\" d=\"M 3597 1894 \n",
       "L 3597 1613 \n",
       "L 953 1613 \n",
       "Q 991 1019 1311 708 \n",
       "Q 1631 397 2203 397 \n",
       "Q 2534 397 2845 478 \n",
       "Q 3156 559 3463 722 \n",
       "L 3463 178 \n",
       "Q 3153 47 2828 -22 \n",
       "Q 2503 -91 2169 -91 \n",
       "Q 1331 -91 842 396 \n",
       "Q 353 884 353 1716 \n",
       "Q 353 2575 817 3079 \n",
       "Q 1281 3584 2069 3584 \n",
       "Q 2775 3584 3186 3129 \n",
       "Q 3597 2675 3597 1894 \n",
       "z\n",
       "M 3022 2063 \n",
       "Q 3016 2534 2758 2815 \n",
       "Q 2500 3097 2075 3097 \n",
       "Q 1594 3097 1305 2825 \n",
       "Q 1016 2553 972 2059 \n",
       "L 3022 2063 \n",
       "z\n",
       "\" transform=\"scale(0.015625)\"/>\n",
       "      <path id=\"DejaVuSans-6e\" d=\"M 3513 2113 \n",
       "L 3513 0 \n",
       "L 2938 0 \n",
       "L 2938 2094 \n",
       "Q 2938 2591 2744 2837 \n",
       "Q 2550 3084 2163 3084 \n",
       "Q 1697 3084 1428 2787 \n",
       "Q 1159 2491 1159 1978 \n",
       "L 1159 0 \n",
       "L 581 0 \n",
       "L 581 3500 \n",
       "L 1159 3500 \n",
       "L 1159 2956 \n",
       "Q 1366 3272 1645 3428 \n",
       "Q 1925 3584 2291 3584 \n",
       "Q 2894 3584 3203 3211 \n",
       "Q 3513 2838 3513 2113 \n",
       "z\n",
       "\" transform=\"scale(0.015625)\"/>\n",
       "      <path id=\"DejaVuSans-74\" d=\"M 1172 4494 \n",
       "L 1172 3500 \n",
       "L 2356 3500 \n",
       "L 2356 3053 \n",
       "L 1172 3053 \n",
       "L 1172 1153 \n",
       "Q 1172 725 1289 603 \n",
       "Q 1406 481 1766 481 \n",
       "L 2356 481 \n",
       "L 2356 0 \n",
       "L 1766 0 \n",
       "Q 1100 0 847 248 \n",
       "Q 594 497 594 1153 \n",
       "L 594 3053 \n",
       "L 172 3053 \n",
       "L 172 3500 \n",
       "L 594 3500 \n",
       "L 594 4494 \n",
       "L 1172 4494 \n",
       "z\n",
       "\" transform=\"scale(0.015625)\"/>\n",
       "      <path id=\"DejaVuSans-61\" d=\"M 2194 1759 \n",
       "Q 1497 1759 1228 1600 \n",
       "Q 959 1441 959 1056 \n",
       "Q 959 750 1161 570 \n",
       "Q 1363 391 1709 391 \n",
       "Q 2188 391 2477 730 \n",
       "Q 2766 1069 2766 1631 \n",
       "L 2766 1759 \n",
       "L 2194 1759 \n",
       "z\n",
       "M 3341 1997 \n",
       "L 3341 0 \n",
       "L 2766 0 \n",
       "L 2766 531 \n",
       "Q 2569 213 2275 61 \n",
       "Q 1981 -91 1556 -91 \n",
       "Q 1019 -91 701 211 \n",
       "Q 384 513 384 1019 \n",
       "Q 384 1609 779 1909 \n",
       "Q 1175 2209 1959 2209 \n",
       "L 2766 2209 \n",
       "L 2766 2266 \n",
       "Q 2766 2663 2505 2880 \n",
       "Q 2244 3097 1772 3097 \n",
       "Q 1472 3097 1187 3025 \n",
       "Q 903 2953 641 2809 \n",
       "L 641 3341 \n",
       "Q 956 3463 1253 3523 \n",
       "Q 1550 3584 1831 3584 \n",
       "Q 2591 3584 2966 3190 \n",
       "Q 3341 2797 3341 1997 \n",
       "z\n",
       "\" transform=\"scale(0.015625)\"/>\n",
       "      <path id=\"DejaVuSans-69\" d=\"M 603 3500 \n",
       "L 1178 3500 \n",
       "L 1178 0 \n",
       "L 603 0 \n",
       "L 603 3500 \n",
       "z\n",
       "M 603 4863 \n",
       "L 1178 4863 \n",
       "L 1178 4134 \n",
       "L 603 4134 \n",
       "L 603 4863 \n",
       "z\n",
       "\" transform=\"scale(0.015625)\"/>\n",
       "      <path id=\"DejaVuSans-6f\" d=\"M 1959 3097 \n",
       "Q 1497 3097 1228 2736 \n",
       "Q 959 2375 959 1747 \n",
       "Q 959 1119 1226 758 \n",
       "Q 1494 397 1959 397 \n",
       "Q 2419 397 2687 759 \n",
       "Q 2956 1122 2956 1747 \n",
       "Q 2956 2369 2687 2733 \n",
       "Q 2419 3097 1959 3097 \n",
       "z\n",
       "M 1959 3584 \n",
       "Q 2709 3584 3137 3096 \n",
       "Q 3566 2609 3566 1747 \n",
       "Q 3566 888 3137 398 \n",
       "Q 2709 -91 1959 -91 \n",
       "Q 1206 -91 779 398 \n",
       "Q 353 888 353 1747 \n",
       "Q 353 2609 779 3096 \n",
       "Q 1206 3584 1959 3584 \n",
       "z\n",
       "\" transform=\"scale(0.015625)\"/>\n",
       "      <path id=\"DejaVuSans-20\" transform=\"scale(0.015625)\"/>\n",
       "      <path id=\"DejaVuSans-78\" d=\"M 3513 3500 \n",
       "L 2247 1797 \n",
       "L 3578 0 \n",
       "L 2900 0 \n",
       "L 1881 1375 \n",
       "L 863 0 \n",
       "L 184 0 \n",
       "L 1544 1831 \n",
       "L 300 3500 \n",
       "L 978 3500 \n",
       "L 1906 2253 \n",
       "L 2834 3500 \n",
       "L 3513 3500 \n",
       "z\n",
       "\" transform=\"scale(0.015625)\"/>\n",
       "      <path id=\"DejaVuSans-70\" d=\"M 1159 525 \n",
       "L 1159 -1331 \n",
       "L 581 -1331 \n",
       "L 581 3500 \n",
       "L 1159 3500 \n",
       "L 1159 2969 \n",
       "Q 1341 3281 1617 3432 \n",
       "Q 1894 3584 2278 3584 \n",
       "Q 2916 3584 3314 3078 \n",
       "Q 3713 2572 3713 1747 \n",
       "Q 3713 922 3314 415 \n",
       "Q 2916 -91 2278 -91 \n",
       "Q 1894 -91 1617 61 \n",
       "Q 1341 213 1159 525 \n",
       "z\n",
       "M 3116 1747 \n",
       "Q 3116 2381 2855 2742 \n",
       "Q 2594 3103 2138 3103 \n",
       "Q 1681 3103 1420 2742 \n",
       "Q 1159 2381 1159 1747 \n",
       "Q 1159 1113 1420 752 \n",
       "Q 1681 391 2138 391 \n",
       "Q 2594 391 2855 752 \n",
       "Q 3116 1113 3116 1747 \n",
       "z\n",
       "\" transform=\"scale(0.015625)\"/>\n",
       "      <path id=\"DejaVuSans-6c\" d=\"M 603 4863 \n",
       "L 1178 4863 \n",
       "L 1178 0 \n",
       "L 603 0 \n",
       "L 603 4863 \n",
       "z\n",
       "\" transform=\"scale(0.015625)\"/>\n",
       "      <path id=\"DejaVuSans-73\" d=\"M 2834 3397 \n",
       "L 2834 2853 \n",
       "Q 2591 2978 2328 3040 \n",
       "Q 2066 3103 1784 3103 \n",
       "Q 1356 3103 1142 2972 \n",
       "Q 928 2841 928 2578 \n",
       "Q 928 2378 1081 2264 \n",
       "Q 1234 2150 1697 2047 \n",
       "L 1894 2003 \n",
       "Q 2506 1872 2764 1633 \n",
       "Q 3022 1394 3022 966 \n",
       "Q 3022 478 2636 193 \n",
       "Q 2250 -91 1575 -91 \n",
       "Q 1294 -91 989 -36 \n",
       "Q 684 19 347 128 \n",
       "L 347 722 \n",
       "Q 666 556 975 473 \n",
       "Q 1284 391 1588 391 \n",
       "Q 1994 391 2212 530 \n",
       "Q 2431 669 2431 922 \n",
       "Q 2431 1156 2273 1281 \n",
       "Q 2116 1406 1581 1522 \n",
       "L 1381 1569 \n",
       "Q 847 1681 609 1914 \n",
       "Q 372 2147 372 2553 \n",
       "Q 372 3047 722 3315 \n",
       "Q 1072 3584 1716 3584 \n",
       "Q 2034 3584 2315 3537 \n",
       "Q 2597 3491 2834 3397 \n",
       "z\n",
       "\" transform=\"scale(0.015625)\"/>\n",
       "      <path id=\"DejaVuSans-43\" d=\"M 4122 4306 \n",
       "L 4122 3641 \n",
       "Q 3803 3938 3442 4084 \n",
       "Q 3081 4231 2675 4231 \n",
       "Q 1875 4231 1450 3742 \n",
       "Q 1025 3253 1025 2328 \n",
       "Q 1025 1406 1450 917 \n",
       "Q 1875 428 2675 428 \n",
       "Q 3081 428 3442 575 \n",
       "Q 3803 722 4122 1019 \n",
       "L 4122 359 \n",
       "Q 3791 134 3420 21 \n",
       "Q 3050 -91 2638 -91 \n",
       "Q 1578 -91 968 557 \n",
       "Q 359 1206 359 2328 \n",
       "Q 359 3453 968 4101 \n",
       "Q 1578 4750 2638 4750 \n",
       "Q 3056 4750 3426 4639 \n",
       "Q 3797 4528 4122 4306 \n",
       "z\n",
       "\" transform=\"scale(0.015625)\"/>\n",
       "      <path id=\"DejaVuSans-49\" d=\"M 628 4666 \n",
       "L 1259 4666 \n",
       "L 1259 0 \n",
       "L 628 0 \n",
       "L 628 4666 \n",
       "z\n",
       "\" transform=\"scale(0.015625)\"/>\n",
       "      <path id=\"DejaVuSans-46\" d=\"M 628 4666 \n",
       "L 3309 4666 \n",
       "L 3309 4134 \n",
       "L 1259 4134 \n",
       "L 1259 2759 \n",
       "L 3109 2759 \n",
       "L 3109 2228 \n",
       "L 1259 2228 \n",
       "L 1259 0 \n",
       "L 628 0 \n",
       "L 628 4666 \n",
       "z\n",
       "\" transform=\"scale(0.015625)\"/>\n",
       "      <path id=\"DejaVuSans-52\" d=\"M 2841 2188 \n",
       "Q 3044 2119 3236 1894 \n",
       "Q 3428 1669 3622 1275 \n",
       "L 4263 0 \n",
       "L 3584 0 \n",
       "L 2988 1197 \n",
       "Q 2756 1666 2539 1819 \n",
       "Q 2322 1972 1947 1972 \n",
       "L 1259 1972 \n",
       "L 1259 0 \n",
       "L 628 0 \n",
       "L 628 4666 \n",
       "L 2053 4666 \n",
       "Q 2853 4666 3247 4331 \n",
       "Q 3641 3997 3641 3322 \n",
       "Q 3641 2881 3436 2590 \n",
       "Q 3231 2300 2841 2188 \n",
       "z\n",
       "M 1259 4147 \n",
       "L 1259 2491 \n",
       "L 2053 2491 \n",
       "Q 2509 2491 2742 2702 \n",
       "Q 2975 2913 2975 3322 \n",
       "Q 2975 3731 2742 3939 \n",
       "Q 2509 4147 2053 4147 \n",
       "L 1259 4147 \n",
       "z\n",
       "\" transform=\"scale(0.015625)\"/>\n",
       "      <path id=\"DejaVuSans-31\" d=\"M 794 531 \n",
       "L 1825 531 \n",
       "L 1825 4091 \n",
       "L 703 3866 \n",
       "L 703 4441 \n",
       "L 1819 4666 \n",
       "L 2450 4666 \n",
       "L 2450 531 \n",
       "L 3481 531 \n",
       "L 3481 0 \n",
       "L 794 0 \n",
       "L 794 531 \n",
       "z\n",
       "\" transform=\"scale(0.015625)\"/>\n",
       "      <path id=\"DejaVuSans-30\" d=\"M 2034 4250 \n",
       "Q 1547 4250 1301 3770 \n",
       "Q 1056 3291 1056 2328 \n",
       "Q 1056 1369 1301 889 \n",
       "Q 1547 409 2034 409 \n",
       "Q 2525 409 2770 889 \n",
       "Q 3016 1369 3016 2328 \n",
       "Q 3016 3291 2770 3770 \n",
       "Q 2525 4250 2034 4250 \n",
       "z\n",
       "M 2034 4750 \n",
       "Q 2819 4750 3233 4129 \n",
       "Q 3647 3509 3647 2328 \n",
       "Q 3647 1150 3233 529 \n",
       "Q 2819 -91 2034 -91 \n",
       "Q 1250 -91 836 529 \n",
       "Q 422 1150 422 2328 \n",
       "Q 422 3509 836 4129 \n",
       "Q 1250 4750 2034 4750 \n",
       "z\n",
       "\" transform=\"scale(0.015625)\"/>\n",
       "      <path id=\"DejaVuSans-28\" d=\"M 1984 4856 \n",
       "Q 1566 4138 1362 3434 \n",
       "Q 1159 2731 1159 2009 \n",
       "Q 1159 1288 1364 580 \n",
       "Q 1569 -128 1984 -844 \n",
       "L 1484 -844 \n",
       "Q 1016 -109 783 600 \n",
       "Q 550 1309 550 2009 \n",
       "Q 550 2706 781 3412 \n",
       "Q 1013 4119 1484 4856 \n",
       "L 1984 4856 \n",
       "z\n",
       "\" transform=\"scale(0.015625)\"/>\n",
       "      <path id=\"DejaVuSans-54\" d=\"M -19 4666 \n",
       "L 3928 4666 \n",
       "L 3928 4134 \n",
       "L 2272 4134 \n",
       "L 2272 0 \n",
       "L 1638 0 \n",
       "L 1638 4134 \n",
       "L -19 4134 \n",
       "L -19 4666 \n",
       "z\n",
       "\" transform=\"scale(0.015625)\"/>\n",
       "      <path id=\"DejaVuSans-3a\" d=\"M 750 794 \n",
       "L 1409 794 \n",
       "L 1409 0 \n",
       "L 750 0 \n",
       "L 750 794 \n",
       "z\n",
       "M 750 3309 \n",
       "L 1409 3309 \n",
       "L 1409 2516 \n",
       "L 750 2516 \n",
       "L 750 3309 \n",
       "z\n",
       "\" transform=\"scale(0.015625)\"/>\n",
       "      <path id=\"DejaVuSans-64\" d=\"M 2906 2969 \n",
       "L 2906 4863 \n",
       "L 3481 4863 \n",
       "L 3481 0 \n",
       "L 2906 0 \n",
       "L 2906 525 \n",
       "Q 2725 213 2448 61 \n",
       "Q 2172 -91 1784 -91 \n",
       "Q 1150 -91 751 415 \n",
       "Q 353 922 353 1747 \n",
       "Q 353 2572 751 3078 \n",
       "Q 1150 3584 1784 3584 \n",
       "Q 2172 3584 2448 3432 \n",
       "Q 2725 3281 2906 2969 \n",
       "z\n",
       "M 947 1747 \n",
       "Q 947 1113 1208 752 \n",
       "Q 1469 391 1925 391 \n",
       "Q 2381 391 2643 752 \n",
       "Q 2906 1113 2906 1747 \n",
       "Q 2906 2381 2643 2742 \n",
       "Q 2381 3103 1925 3103 \n",
       "Q 1469 3103 1208 2742 \n",
       "Q 947 2381 947 1747 \n",
       "z\n",
       "\" transform=\"scale(0.015625)\"/>\n",
       "      <path id=\"DejaVuSans-2c\" d=\"M 750 794 \n",
       "L 1409 794 \n",
       "L 1409 256 \n",
       "L 897 -744 \n",
       "L 494 -744 \n",
       "L 750 256 \n",
       "L 750 794 \n",
       "z\n",
       "\" transform=\"scale(0.015625)\"/>\n",
       "      <path id=\"DejaVuSans-62\" d=\"M 3116 1747 \n",
       "Q 3116 2381 2855 2742 \n",
       "Q 2594 3103 2138 3103 \n",
       "Q 1681 3103 1420 2742 \n",
       "Q 1159 2381 1159 1747 \n",
       "Q 1159 1113 1420 752 \n",
       "Q 1681 391 2138 391 \n",
       "Q 2594 391 2855 752 \n",
       "Q 3116 1113 3116 1747 \n",
       "z\n",
       "M 1159 2969 \n",
       "Q 1341 3281 1617 3432 \n",
       "Q 1894 3584 2278 3584 \n",
       "Q 2916 3584 3314 3078 \n",
       "Q 3713 2572 3713 1747 \n",
       "Q 3713 922 3314 415 \n",
       "Q 2916 -91 2278 -91 \n",
       "Q 1894 -91 1617 61 \n",
       "Q 1341 213 1159 525 \n",
       "L 1159 0 \n",
       "L 581 0 \n",
       "L 581 4863 \n",
       "L 1159 4863 \n",
       "L 1159 2969 \n",
       "z\n",
       "\" transform=\"scale(0.015625)\"/>\n",
       "      <path id=\"DejaVuSans-72\" d=\"M 2631 2963 \n",
       "Q 2534 3019 2420 3045 \n",
       "Q 2306 3072 2169 3072 \n",
       "Q 1681 3072 1420 2755 \n",
       "Q 1159 2438 1159 1844 \n",
       "L 1159 0 \n",
       "L 581 0 \n",
       "L 581 3500 \n",
       "L 1159 3500 \n",
       "L 1159 2956 \n",
       "Q 1341 3275 1631 3429 \n",
       "Q 1922 3584 2338 3584 \n",
       "Q 2397 3584 2469 3576 \n",
       "Q 2541 3569 2628 3553 \n",
       "L 2631 2963 \n",
       "z\n",
       "\" transform=\"scale(0.015625)\"/>\n",
       "      <path id=\"DejaVuSans-29\" d=\"M 513 4856 \n",
       "L 1013 4856 \n",
       "Q 1481 4119 1714 3412 \n",
       "Q 1947 2706 1947 2009 \n",
       "Q 1947 1309 1714 600 \n",
       "Q 1481 -109 1013 -844 \n",
       "L 513 -844 \n",
       "Q 928 -128 1133 580 \n",
       "Q 1338 1288 1338 2009 \n",
       "Q 1338 2731 1133 3434 \n",
       "Q 928 4138 513 4856 \n",
       "z\n",
       "\" transform=\"scale(0.015625)\"/>\n",
       "     </defs>\n",
       "     <use xlink:href=\"#DejaVuSans-41\"/>\n",
       "     <use xlink:href=\"#DejaVuSans-75\" x=\"68.408203\"/>\n",
       "     <use xlink:href=\"#DejaVuSans-67\" x=\"131.787109\"/>\n",
       "     <use xlink:href=\"#DejaVuSans-6d\" x=\"195.263672\"/>\n",
       "     <use xlink:href=\"#DejaVuSans-65\" x=\"292.675781\"/>\n",
       "     <use xlink:href=\"#DejaVuSans-6e\" x=\"354.199219\"/>\n",
       "     <use xlink:href=\"#DejaVuSans-74\" x=\"417.578125\"/>\n",
       "     <use xlink:href=\"#DejaVuSans-61\" x=\"456.787109\"/>\n",
       "     <use xlink:href=\"#DejaVuSans-74\" x=\"518.066406\"/>\n",
       "     <use xlink:href=\"#DejaVuSans-69\" x=\"557.275391\"/>\n",
       "     <use xlink:href=\"#DejaVuSans-6f\" x=\"585.058594\"/>\n",
       "     <use xlink:href=\"#DejaVuSans-6e\" x=\"646.240234\"/>\n",
       "     <use xlink:href=\"#DejaVuSans-20\" x=\"709.619141\"/>\n",
       "     <use xlink:href=\"#DejaVuSans-65\" x=\"741.40625\"/>\n",
       "     <use xlink:href=\"#DejaVuSans-78\" x=\"801.179688\"/>\n",
       "     <use xlink:href=\"#DejaVuSans-61\" x=\"860.359375\"/>\n",
       "     <use xlink:href=\"#DejaVuSans-6d\" x=\"921.638672\"/>\n",
       "     <use xlink:href=\"#DejaVuSans-70\" x=\"1019.050781\"/>\n",
       "     <use xlink:href=\"#DejaVuSans-6c\" x=\"1082.527344\"/>\n",
       "     <use xlink:href=\"#DejaVuSans-65\" x=\"1110.310547\"/>\n",
       "     <use xlink:href=\"#DejaVuSans-73\" x=\"1171.833984\"/>\n",
       "     <use xlink:href=\"#DejaVuSans-20\" x=\"1223.933594\"/>\n",
       "     <use xlink:href=\"#DejaVuSans-6f\" x=\"1255.720703\"/>\n",
       "     <use xlink:href=\"#DejaVuSans-6e\" x=\"1316.902344\"/>\n",
       "     <use xlink:href=\"#DejaVuSans-20\" x=\"1380.28125\"/>\n",
       "     <use xlink:href=\"#DejaVuSans-43\" x=\"1412.068359\"/>\n",
       "     <use xlink:href=\"#DejaVuSans-49\" x=\"1481.892578\"/>\n",
       "     <use xlink:href=\"#DejaVuSans-46\" x=\"1511.384766\"/>\n",
       "     <use xlink:href=\"#DejaVuSans-41\" x=\"1559.779297\"/>\n",
       "     <use xlink:href=\"#DejaVuSans-52\" x=\"1628.1875\"/>\n",
       "     <use xlink:href=\"#DejaVuSans-31\" x=\"1697.669922\"/>\n",
       "     <use xlink:href=\"#DejaVuSans-30\" x=\"1761.292969\"/>\n",
       "     <use xlink:href=\"#DejaVuSans-20\" x=\"1824.916016\"/>\n",
       "     <use xlink:href=\"#DejaVuSans-28\" x=\"1856.703125\"/>\n",
       "     <use xlink:href=\"#DejaVuSans-54\" x=\"1895.716797\"/>\n",
       "     <use xlink:href=\"#DejaVuSans-6f\" x=\"1939.800781\"/>\n",
       "     <use xlink:href=\"#DejaVuSans-70\" x=\"2000.982422\"/>\n",
       "     <use xlink:href=\"#DejaVuSans-3a\" x=\"2064.458984\"/>\n",
       "     <use xlink:href=\"#DejaVuSans-20\" x=\"2098.150391\"/>\n",
       "     <use xlink:href=\"#DejaVuSans-61\" x=\"2129.9375\"/>\n",
       "     <use xlink:href=\"#DejaVuSans-75\" x=\"2191.216797\"/>\n",
       "     <use xlink:href=\"#DejaVuSans-67\" x=\"2254.595703\"/>\n",
       "     <use xlink:href=\"#DejaVuSans-6d\" x=\"2318.072266\"/>\n",
       "     <use xlink:href=\"#DejaVuSans-65\" x=\"2415.484375\"/>\n",
       "     <use xlink:href=\"#DejaVuSans-6e\" x=\"2477.007812\"/>\n",
       "     <use xlink:href=\"#DejaVuSans-74\" x=\"2540.386719\"/>\n",
       "     <use xlink:href=\"#DejaVuSans-65\" x=\"2579.595703\"/>\n",
       "     <use xlink:href=\"#DejaVuSans-64\" x=\"2641.119141\"/>\n",
       "     <use xlink:href=\"#DejaVuSans-2c\" x=\"2704.595703\"/>\n",
       "     <use xlink:href=\"#DejaVuSans-20\" x=\"2736.382812\"/>\n",
       "     <use xlink:href=\"#DejaVuSans-62\" x=\"2768.169922\"/>\n",
       "     <use xlink:href=\"#DejaVuSans-6f\" x=\"2831.646484\"/>\n",
       "     <use xlink:href=\"#DejaVuSans-74\" x=\"2892.828125\"/>\n",
       "     <use xlink:href=\"#DejaVuSans-74\" x=\"2932.037109\"/>\n",
       "     <use xlink:href=\"#DejaVuSans-6f\" x=\"2971.246094\"/>\n",
       "     <use xlink:href=\"#DejaVuSans-6d\" x=\"3032.427734\"/>\n",
       "     <use xlink:href=\"#DejaVuSans-3a\" x=\"3129.839844\"/>\n",
       "     <use xlink:href=\"#DejaVuSans-20\" x=\"3163.53125\"/>\n",
       "     <use xlink:href=\"#DejaVuSans-6f\" x=\"3195.318359\"/>\n",
       "     <use xlink:href=\"#DejaVuSans-72\" x=\"3256.5\"/>\n",
       "     <use xlink:href=\"#DejaVuSans-69\" x=\"3297.613281\"/>\n",
       "     <use xlink:href=\"#DejaVuSans-67\" x=\"3325.396484\"/>\n",
       "     <use xlink:href=\"#DejaVuSans-69\" x=\"3388.873047\"/>\n",
       "     <use xlink:href=\"#DejaVuSans-6e\" x=\"3416.65625\"/>\n",
       "     <use xlink:href=\"#DejaVuSans-61\" x=\"3480.035156\"/>\n",
       "     <use xlink:href=\"#DejaVuSans-6c\" x=\"3541.314453\"/>\n",
       "     <use xlink:href=\"#DejaVuSans-29\" x=\"3569.097656\"/>\n",
       "    </g>\n",
       "   </g>\n",
       "  </g>\n",
       " </g>\n",
       " <defs>\n",
       "  <clipPath id=\"p736bf3c3d5\">\n",
       "   <rect x=\"7.2\" y=\"22.318125\" width=\"446.4\" height=\"226.434783\"/>\n",
       "  </clipPath>\n",
       " </defs>\n",
       "</svg>\n"
      ],
      "text/plain": [
       "<Figure size 800x800 with 1 Axes>"
      ]
     },
     "metadata": {},
     "output_type": "display_data"
    }
   ],
   "source": [
    "NUM_IMAGES = 4\n",
    "images = [train_dataset[idx][0] for idx in range(NUM_IMAGES)]\n",
    "orig_images = [Image.fromarray(train_dataset.data[idx]) for idx in range(NUM_IMAGES)]\n",
    "orig_images = [test_transform(img) for img in orig_images]\n",
    "\n",
    "imgs = np.stack(images + orig_images, axis=0)\n",
    "imgs = torch.from_numpy(imgs).permute(0, 3, 1, 2)\n",
    "img_grid = torchvision.utils.make_grid(imgs, nrow=4, normalize=True, pad_value=0.5)\n",
    "img_grid = img_grid.permute(1, 2, 0)\n",
    "\n",
    "plt.figure(figsize=(8,8))\n",
    "plt.title(\"Augmentation examples on CIFAR10 (Top: augmented, bottom: original)\")\n",
    "plt.imshow(img_grid)\n",
    "plt.axis('off')\n",
    "plt.show()\n",
    "plt.close()"
   ]
  },
  {
   "cell_type": "code",
   "execution_count": 11,
   "id": "6841ebdc-dbb9-463b-8fea-abd494d021e9",
   "metadata": {},
   "outputs": [],
   "source": [
    "class TrainState(train_state.TrainState):\n",
    "    # A simple extension of TrainState to also include batch statistics\n",
    "    batch_stats: Any"
   ]
  },
  {
   "cell_type": "code",
   "execution_count": 12,
   "id": "8fc3ccb8-2975-4e50-9a99-c9cb6dc71be9",
   "metadata": {},
   "outputs": [],
   "source": [
    "class TrainerModule:\n",
    "\n",
    "    def __init__(self,\n",
    "                 model_name : str,\n",
    "                 model_class : nn.Module,\n",
    "                 model_hparams : dict,\n",
    "                 optimizer_name : str,\n",
    "                 optimizer_hparams : dict,\n",
    "                 exmp_imgs : Any,\n",
    "                 seed=42):\n",
    "        \"\"\"\n",
    "        Module for summarizing all training functionalities for classification on CIFAR10.\n",
    "\n",
    "        Inputs:\n",
    "            model_name - String of the class name, used for logging and saving\n",
    "            model_class - Class implementing the neural network\n",
    "            model_hparams - Hyperparameters of the model, used as input to model constructor\n",
    "            optimizer_name - String of the optimizer name, supporting ['sgd', 'adam', 'adamw']\n",
    "            optimizer_hparams - Hyperparameters of the optimizer, including learning rate as 'lr'\n",
    "            exmp_imgs - Example imgs, used as input to initialize the model\n",
    "            seed - Seed to use in the model initialization\n",
    "        \"\"\"\n",
    "        super().__init__()\n",
    "        self.model_name = model_name\n",
    "        self.model_class = model_class\n",
    "        self.model_hparams = model_hparams\n",
    "        self.optimizer_name = optimizer_name\n",
    "        self.optimizer_hparams = optimizer_hparams\n",
    "        self.seed = seed\n",
    "        # Create empty model. Note: no parameters yet\n",
    "        self.model = self.model_class(**self.model_hparams)\n",
    "        # Prepare logging\n",
    "        self.log_dir = os.path.join(CHECKPOINT_PATH, self.model_name)\n",
    "        self.logger = SummaryWriter(log_dir=self.log_dir)\n",
    "        # Create jitted training and eval functions\n",
    "        self.create_functions()\n",
    "        # Initialize model\n",
    "        self.init_model(exmp_imgs)\n",
    "\n",
    "        # Initialize the PyTreeCheckpointer and CheckpointManager\n",
    "        self.orbax_checkpointer = orbax.checkpoint.PyTreeCheckpointer()\n",
    "        options = orbax.checkpoint.CheckpointManagerOptions(max_to_keep=2, create=True)\n",
    "        self.checkpoint_manager = orbax.checkpoint.CheckpointManager(\n",
    "            self.log_dir, self.orbax_checkpointer, options)\n",
    "\n",
    "\n",
    "    def create_functions(self):\n",
    "        # Function to calculate the classification loss and accuracy for a model\n",
    "        def calculate_loss(params, batch_stats, batch, train):\n",
    "            imgs, labels = batch\n",
    "            # Run model. During training, we need to update the BatchNorm statistics.\n",
    "            outs = self.model.apply({'params': params, 'batch_stats': batch_stats},\n",
    "                                    imgs,\n",
    "                                    train=train,\n",
    "                                    mutable=['batch_stats'] if train else False)\n",
    "            logits, new_model_state = outs if train else (outs, None)\n",
    "            loss = optax.softmax_cross_entropy_with_integer_labels(logits, labels).mean()\n",
    "            acc = (logits.argmax(axis=-1) == labels).mean()\n",
    "            return loss, (acc, new_model_state)\n",
    "        # Training function\n",
    "        def train_step(state, batch):\n",
    "            loss_fn = lambda params: calculate_loss(params, state.batch_stats, batch, train=True)\n",
    "            # Get loss, gradients for loss, and other outputs of loss function\n",
    "            ret, grads = jax.value_and_grad(loss_fn, has_aux=True)(state.params)\n",
    "            loss, acc, new_model_state = ret[0], *ret[1]\n",
    "            # Update parameters and batch statistics\n",
    "            state = state.apply_gradients(grads=grads, batch_stats=new_model_state['batch_stats'])\n",
    "            return state, loss, acc\n",
    "        # Eval function\n",
    "        def eval_step(state, batch):\n",
    "            # Return the accuracy for a single batch\n",
    "            _, (acc, _) = calculate_loss(state.params, state.batch_stats, batch, train=False)\n",
    "            return acc\n",
    "        # jit for efficiency\n",
    "        self.train_step = jax.jit(train_step)\n",
    "        self.eval_step = jax.jit(eval_step)\n",
    "\n",
    "    def init_model(self, exmp_imgs):\n",
    "        # Initialize model\n",
    "        init_rng = jax.random.PRNGKey(self.seed)\n",
    "        variables = self.model.init(init_rng, exmp_imgs, train=True)\n",
    "        self.init_params, self.init_batch_stats = variables['params'], variables['batch_stats']\n",
    "        self.state = None\n",
    "\n",
    "    def init_optimizer(self, num_epochs, num_steps_per_epoch):\n",
    "        # Initialize learning rate schedule and optimizer\n",
    "        if self.optimizer_name.lower() == 'adam':\n",
    "            opt_class = optax.adam\n",
    "        elif self.optimizer_name.lower() == 'adamw':\n",
    "            opt_class = optax.adamw\n",
    "        elif self.optimizer_name.lower() == 'sgd':\n",
    "            opt_class = optax.sgd\n",
    "        else:\n",
    "            assert False, f'Unknown optimizer \"{opt_class}\"'\n",
    "        # We decrease the learning rate by a factor of 0.1 after 60% and 85% of the training\n",
    "        lr_schedule = optax.piecewise_constant_schedule(\n",
    "            init_value=self.optimizer_hparams.pop('lr'),\n",
    "            boundaries_and_scales=\n",
    "                {int(num_steps_per_epoch*num_epochs*0.6): 0.1,\n",
    "                 int(num_steps_per_epoch*num_epochs*0.85): 0.1}\n",
    "        )\n",
    "        # Clip gradients at max value, and evt. apply weight decay\n",
    "        transf = [optax.clip(1.0)]\n",
    "        if opt_class == optax.sgd and 'weight_decay' in self.optimizer_hparams:  # wd is integrated in adamw\n",
    "            transf.append(optax.add_decayed_weights(self.optimizer_hparams.pop('weight_decay')))\n",
    "        optimizer = optax.chain(\n",
    "            *transf,\n",
    "            opt_class(lr_schedule, **self.optimizer_hparams)\n",
    "        )\n",
    "        # Initialize training state\n",
    "        self.state = TrainState.create(apply_fn=self.model.apply,\n",
    "                                       params=self.init_params if self.state is None else self.state.params,\n",
    "                                       batch_stats=self.init_batch_stats if self.state is None else self.state.batch_stats,\n",
    "                                       tx=optimizer)\n",
    "\n",
    "    def train_model(self, train_loader, val_loader, num_epochs=200):\n",
    "        # Train model for defined number of epochs\n",
    "        # We first need to create optimizer and the scheduler for the given number of epochs\n",
    "        self.init_optimizer(num_epochs, len(train_loader))\n",
    "        # Track best eval accuracy\n",
    "        best_eval = 0.0\n",
    "        for epoch_idx in tqdm(range(1, num_epochs+1)):\n",
    "            self.train_epoch(train_loader, epoch=epoch_idx)\n",
    "            if epoch_idx % 2 == 0:\n",
    "                eval_acc = self.eval_model(val_loader)\n",
    "                self.logger.add_scalar('val/acc', eval_acc, global_step=epoch_idx)\n",
    "                if eval_acc >= best_eval:\n",
    "                    best_eval = eval_acc\n",
    "                    self.save_model(step=epoch_idx)\n",
    "                self.logger.flush()\n",
    "\n",
    "    def train_epoch(self, train_loader, epoch):\n",
    "        # Train model for one epoch, and log avg loss and accuracy\n",
    "        metrics = defaultdict(list)\n",
    "        for batch in tqdm(train_loader, desc='Training', leave=False):\n",
    "            self.state, loss, acc = self.train_step(self.state, batch)\n",
    "            metrics['loss'].append(loss)\n",
    "            metrics['acc'].append(acc)\n",
    "        for key in metrics:\n",
    "            avg_val = np.stack(jax.device_get(metrics[key])).mean()\n",
    "            self.logger.add_scalar('train/'+key, avg_val, global_step=epoch)\n",
    "\n",
    "    def eval_model(self, data_loader):\n",
    "        # Test model on all images of a data loader and return avg loss\n",
    "        correct_class, count = 0, 0\n",
    "        for batch in data_loader:\n",
    "            acc = self.eval_step(self.state, batch)\n",
    "            correct_class += acc * batch[0].shape[0]\n",
    "            count += batch[0].shape[0]\n",
    "        eval_acc = (correct_class / count).item()\n",
    "        return eval_acc\n",
    "\n",
    "    def save_model(self, step=0):\n",
    "\n",
    "        # Assuming 'self.state' contains the model state you want to save\n",
    "        ckpt = {'params': self.state.params, 'batch_stats': self.state.batch_stats}\n",
    "\n",
    "        # Get save_args for performance optimization\n",
    "        save_args = orbax_utils.save_args_from_target(ckpt)\n",
    "\n",
    "        # Save the checkpoint using the checkpoint manager\n",
    "        self.checkpoint_manager.save(step, ckpt, save_kwargs={'save_args': save_args})\n",
    "\n",
    "        # Save current model at certain training iteration\n",
    "        #checkpoints.save_checkpoint(ckpt_dir=self.log_dir,\n",
    "        #                            target={'params': self.state.params,\n",
    "        #                                    'batch_stats': self.state.batch_stats},\n",
    "        #                            step=step,\n",
    "        #                           overwrite=True)\n",
    "\n",
    "    def load_model(self, pretrained=False):\n",
    "        # Load model. We use different checkpoint for pretrained models\n",
    "        if not pretrained:\n",
    "            state_dict = checkpoints.restore_checkpoint(ckpt_dir=self.log_dir, target=None)\n",
    "        else:\n",
    "            state_dict = checkpoints.restore_checkpoint(ckpt_dir=os.path.join(CHECKPOINT_PATH, f'{self.model_name}.ckpt'), target=None)\n",
    "        self.state = TrainState.create(apply_fn=self.model.apply,\n",
    "                                       params=state_dict['params'],\n",
    "                                       batch_stats=state_dict['batch_stats'],\n",
    "                                       tx=self.state.tx if self.state else optax.sgd(0.1)   # Default optimizer\n",
    "                                      )\n",
    "\n",
    "    def checkpoint_exists(self):\n",
    "        # Check whether a pretrained model exist for this autoencoder\n",
    "        return os.path.isfile(os.path.join(CHECKPOINT_PATH, f'{self.model_name}.ckpt'))"
   ]
  },
  {
   "cell_type": "code",
   "execution_count": 13,
   "id": "cceb2af7-c415-4430-87f4-4367f4904882",
   "metadata": {},
   "outputs": [],
   "source": [
    "def train_classifier(*args, num_epochs=200, **kwargs):\n",
    "    # Create a trainer module with specified hyperparameters\n",
    "    trainer = TrainerModule(*args, **kwargs)\n",
    "    if not trainer.checkpoint_exists():  # Skip training if pretrained model exists\n",
    "        trainer.train_model(train_loader, val_loader, num_epochs=num_epochs)\n",
    "        trainer.load_model()\n",
    "    else:\n",
    "        trainer.load_model(pretrained=True)\n",
    "    # Test trained model\n",
    "    val_acc = trainer.eval_model(val_loader)\n",
    "    test_acc = trainer.eval_model(test_loader)\n",
    "    return trainer, {'val': val_acc, 'test': test_acc}"
   ]
  },
  {
   "cell_type": "code",
   "execution_count": 14,
   "id": "0f1a3ce1-491c-46ef-a0e6-ca4c9f2b8fcd",
   "metadata": {},
   "outputs": [],
   "source": [
    "densenet_kernel_init = nn.initializers.kaiming_normal()\n",
    "\n",
    "class DenseLayer(nn.Module):\n",
    "    bn_size : int  # Bottleneck size (factor of growth rate) for the output of the 1x1 convolution\n",
    "    growth_rate : int  # Number of output channels of the 3x3 convolution\n",
    "    act_fn : callable  # Activation function\n",
    "\n",
    "    @nn.compact\n",
    "    def __call__(self, x, train=True):\n",
    "        z = nn.BatchNorm()(x, use_running_average=not train)\n",
    "        z = self.act_fn(z)\n",
    "        z = nn.Conv(self.bn_size * self.growth_rate,\n",
    "                    kernel_size=(1, 1),\n",
    "                    kernel_init=densenet_kernel_init,\n",
    "                    use_bias=False)(z)\n",
    "        z = nn.BatchNorm()(z, use_running_average=not train)\n",
    "        z = self.act_fn(z)\n",
    "        z = nn.Conv(self.growth_rate,\n",
    "                    kernel_size=(3, 3),\n",
    "                    kernel_init=densenet_kernel_init,\n",
    "                    use_bias=False)(z)\n",
    "        x_out = jnp.concatenate([x, z], axis=-1)\n",
    "        return x_out"
   ]
  },
  {
   "cell_type": "code",
   "execution_count": 15,
   "id": "98ef18b3-e140-4d0a-983b-9882a28b6679",
   "metadata": {},
   "outputs": [],
   "source": [
    "class DenseBlock(nn.Module):\n",
    "    num_layers : int  # Number of dense layers to apply in the block\n",
    "    bn_size : int  # Bottleneck size to use in the dense layers\n",
    "    growth_rate : int  # Growth rate to use in the dense layers\n",
    "    act_fn : callable  # Activation function to use in the dense layers\n",
    "\n",
    "    @nn.compact\n",
    "    def __call__(self, x, train=True):\n",
    "        for _ in range(self.num_layers):\n",
    "            x = DenseLayer(bn_size=self.bn_size,\n",
    "                           growth_rate=self.growth_rate,\n",
    "                           act_fn=self.act_fn)(x, train=train)\n",
    "        return x"
   ]
  },
  {
   "cell_type": "code",
   "execution_count": 16,
   "id": "e6913d30-c782-4099-8aa6-3339476a091b",
   "metadata": {},
   "outputs": [],
   "source": [
    "class TransitionLayer(nn.Module):\n",
    "    c_out : int  # Output feature size\n",
    "    act_fn : callable  # Activation function\n",
    "\n",
    "    @nn.compact\n",
    "    def __call__(self, x, train=True):\n",
    "        x = nn.BatchNorm()(x, use_running_average=not train)\n",
    "        x = self.act_fn(x)\n",
    "        x = nn.Conv(self.c_out,\n",
    "                    kernel_size=(1, 1),\n",
    "                    kernel_init=densenet_kernel_init,\n",
    "                    use_bias=False)(x)\n",
    "        x = nn.avg_pool(x, (2, 2), strides=(2, 2))\n",
    "        return x"
   ]
  },
  {
   "cell_type": "code",
   "execution_count": 17,
   "id": "e0b5ffd8-ec4c-4678-b30f-5c3a4a804bd4",
   "metadata": {},
   "outputs": [],
   "source": [
    "class DenseNet(nn.Module):\n",
    "    num_classes : int\n",
    "    act_fn : callable = nn.relu\n",
    "    num_layers : tuple = (6, 12, 24, 16)\n",
    "    bn_size : int = 4\n",
    "    growth_rate : int = 32\n",
    "\n",
    "    @nn.compact\n",
    "    def __call__(self, x, train=True):\n",
    "        c_hidden = self.growth_rate * self.bn_size  # The start number of hidden channels\n",
    "        \n",
    "        x = jnp.pad(x, pad_width=((0, 0), (3, 3), (3, 3), (0, 0)))  # Zero padding\n",
    "        x = nn.Conv(64, (7, 7), strides=(2, 2), padding='VALID', \n",
    "                    kernel_init=densenet_kernel_init)(x)\n",
    "        x = nn.BatchNorm()(x, use_running_average=not train)\n",
    "        x = self.act_fn(x)\n",
    "        x = jnp.pad(x, pad_width=((0, 0), (1, 1), (1, 1), (0, 0)))  # Zero padding for max pooling\n",
    "        x = nn.max_pool(x, window_shape=(3, 3), strides=(2, 2), padding='VALID')\n",
    "\n",
    "        for block_idx, num_layers in enumerate(self.num_layers):\n",
    "            x = DenseBlock(num_layers=num_layers,\n",
    "                           bn_size=self.bn_size,\n",
    "                           growth_rate=self.growth_rate,\n",
    "                           act_fn=self.act_fn)(x, train=train)\n",
    "            c_hidden += num_layers * self.growth_rate\n",
    "            if block_idx < len(self.num_layers)-1:  # Don't apply transition layer on last block\n",
    "                x = TransitionLayer(c_out=c_hidden//2,\n",
    "                                    act_fn=self.act_fn)(x, train=train)\n",
    "                c_hidden //= 2\n",
    "\n",
    "        x = nn.BatchNorm()(x, use_running_average=not train)\n",
    "        x = self.act_fn(x)\n",
    "        x = x.mean(axis=(1, 2))\n",
    "        x = nn.Dense(self.num_classes)(x)\n",
    "        return x"
   ]
  },
  {
   "cell_type": "code",
   "execution_count": 18,
   "id": "d01f69db-b9cd-4e91-85cf-f7de533f06d5",
   "metadata": {},
   "outputs": [
    {
     "data": {
      "application/vnd.jupyter.widget-view+json": {
       "model_id": "d592d8834e64481585b71a251f6b6980",
       "version_major": 2,
       "version_minor": 0
      },
      "text/plain": [
       "  0%|          | 0/200 [00:00<?, ?it/s]"
      ]
     },
     "metadata": {},
     "output_type": "display_data"
    },
    {
     "data": {
      "application/vnd.jupyter.widget-view+json": {
       "model_id": "",
       "version_major": 2,
       "version_minor": 0
      },
      "text/plain": [
       "Training:   0%|          | 0/351 [00:00<?, ?it/s]"
      ]
     },
     "metadata": {},
     "output_type": "display_data"
    },
    {
     "data": {
      "application/vnd.jupyter.widget-view+json": {
       "model_id": "",
       "version_major": 2,
       "version_minor": 0
      },
      "text/plain": [
       "Training:   0%|          | 0/351 [00:00<?, ?it/s]"
      ]
     },
     "metadata": {},
     "output_type": "display_data"
    },
    {
     "data": {
      "application/vnd.jupyter.widget-view+json": {
       "model_id": "",
       "version_major": 2,
       "version_minor": 0
      },
      "text/plain": [
       "Training:   0%|          | 0/351 [00:00<?, ?it/s]"
      ]
     },
     "metadata": {},
     "output_type": "display_data"
    },
    {
     "data": {
      "application/vnd.jupyter.widget-view+json": {
       "model_id": "",
       "version_major": 2,
       "version_minor": 0
      },
      "text/plain": [
       "Training:   0%|          | 0/351 [00:00<?, ?it/s]"
      ]
     },
     "metadata": {},
     "output_type": "display_data"
    },
    {
     "data": {
      "application/vnd.jupyter.widget-view+json": {
       "model_id": "",
       "version_major": 2,
       "version_minor": 0
      },
      "text/plain": [
       "Training:   0%|          | 0/351 [00:00<?, ?it/s]"
      ]
     },
     "metadata": {},
     "output_type": "display_data"
    },
    {
     "data": {
      "application/vnd.jupyter.widget-view+json": {
       "model_id": "",
       "version_major": 2,
       "version_minor": 0
      },
      "text/plain": [
       "Training:   0%|          | 0/351 [00:00<?, ?it/s]"
      ]
     },
     "metadata": {},
     "output_type": "display_data"
    },
    {
     "data": {
      "application/vnd.jupyter.widget-view+json": {
       "model_id": "",
       "version_major": 2,
       "version_minor": 0
      },
      "text/plain": [
       "Training:   0%|          | 0/351 [00:00<?, ?it/s]"
      ]
     },
     "metadata": {},
     "output_type": "display_data"
    },
    {
     "data": {
      "application/vnd.jupyter.widget-view+json": {
       "model_id": "",
       "version_major": 2,
       "version_minor": 0
      },
      "text/plain": [
       "Training:   0%|          | 0/351 [00:00<?, ?it/s]"
      ]
     },
     "metadata": {},
     "output_type": "display_data"
    },
    {
     "data": {
      "application/vnd.jupyter.widget-view+json": {
       "model_id": "",
       "version_major": 2,
       "version_minor": 0
      },
      "text/plain": [
       "Training:   0%|          | 0/351 [00:00<?, ?it/s]"
      ]
     },
     "metadata": {},
     "output_type": "display_data"
    },
    {
     "data": {
      "application/vnd.jupyter.widget-view+json": {
       "model_id": "",
       "version_major": 2,
       "version_minor": 0
      },
      "text/plain": [
       "Training:   0%|          | 0/351 [00:00<?, ?it/s]"
      ]
     },
     "metadata": {},
     "output_type": "display_data"
    },
    {
     "data": {
      "application/vnd.jupyter.widget-view+json": {
       "model_id": "",
       "version_major": 2,
       "version_minor": 0
      },
      "text/plain": [
       "Training:   0%|          | 0/351 [00:00<?, ?it/s]"
      ]
     },
     "metadata": {},
     "output_type": "display_data"
    },
    {
     "data": {
      "application/vnd.jupyter.widget-view+json": {
       "model_id": "",
       "version_major": 2,
       "version_minor": 0
      },
      "text/plain": [
       "Training:   0%|          | 0/351 [00:00<?, ?it/s]"
      ]
     },
     "metadata": {},
     "output_type": "display_data"
    },
    {
     "data": {
      "application/vnd.jupyter.widget-view+json": {
       "model_id": "",
       "version_major": 2,
       "version_minor": 0
      },
      "text/plain": [
       "Training:   0%|          | 0/351 [00:00<?, ?it/s]"
      ]
     },
     "metadata": {},
     "output_type": "display_data"
    },
    {
     "data": {
      "application/vnd.jupyter.widget-view+json": {
       "model_id": "",
       "version_major": 2,
       "version_minor": 0
      },
      "text/plain": [
       "Training:   0%|          | 0/351 [00:00<?, ?it/s]"
      ]
     },
     "metadata": {},
     "output_type": "display_data"
    },
    {
     "data": {
      "application/vnd.jupyter.widget-view+json": {
       "model_id": "",
       "version_major": 2,
       "version_minor": 0
      },
      "text/plain": [
       "Training:   0%|          | 0/351 [00:00<?, ?it/s]"
      ]
     },
     "metadata": {},
     "output_type": "display_data"
    },
    {
     "data": {
      "application/vnd.jupyter.widget-view+json": {
       "model_id": "",
       "version_major": 2,
       "version_minor": 0
      },
      "text/plain": [
       "Training:   0%|          | 0/351 [00:00<?, ?it/s]"
      ]
     },
     "metadata": {},
     "output_type": "display_data"
    },
    {
     "data": {
      "application/vnd.jupyter.widget-view+json": {
       "model_id": "",
       "version_major": 2,
       "version_minor": 0
      },
      "text/plain": [
       "Training:   0%|          | 0/351 [00:00<?, ?it/s]"
      ]
     },
     "metadata": {},
     "output_type": "display_data"
    },
    {
     "data": {
      "application/vnd.jupyter.widget-view+json": {
       "model_id": "",
       "version_major": 2,
       "version_minor": 0
      },
      "text/plain": [
       "Training:   0%|          | 0/351 [00:00<?, ?it/s]"
      ]
     },
     "metadata": {},
     "output_type": "display_data"
    },
    {
     "data": {
      "application/vnd.jupyter.widget-view+json": {
       "model_id": "",
       "version_major": 2,
       "version_minor": 0
      },
      "text/plain": [
       "Training:   0%|          | 0/351 [00:00<?, ?it/s]"
      ]
     },
     "metadata": {},
     "output_type": "display_data"
    },
    {
     "data": {
      "application/vnd.jupyter.widget-view+json": {
       "model_id": "",
       "version_major": 2,
       "version_minor": 0
      },
      "text/plain": [
       "Training:   0%|          | 0/351 [00:00<?, ?it/s]"
      ]
     },
     "metadata": {},
     "output_type": "display_data"
    },
    {
     "data": {
      "application/vnd.jupyter.widget-view+json": {
       "model_id": "",
       "version_major": 2,
       "version_minor": 0
      },
      "text/plain": [
       "Training:   0%|          | 0/351 [00:00<?, ?it/s]"
      ]
     },
     "metadata": {},
     "output_type": "display_data"
    },
    {
     "data": {
      "application/vnd.jupyter.widget-view+json": {
       "model_id": "",
       "version_major": 2,
       "version_minor": 0
      },
      "text/plain": [
       "Training:   0%|          | 0/351 [00:00<?, ?it/s]"
      ]
     },
     "metadata": {},
     "output_type": "display_data"
    },
    {
     "data": {
      "application/vnd.jupyter.widget-view+json": {
       "model_id": "",
       "version_major": 2,
       "version_minor": 0
      },
      "text/plain": [
       "Training:   0%|          | 0/351 [00:00<?, ?it/s]"
      ]
     },
     "metadata": {},
     "output_type": "display_data"
    },
    {
     "data": {
      "application/vnd.jupyter.widget-view+json": {
       "model_id": "",
       "version_major": 2,
       "version_minor": 0
      },
      "text/plain": [
       "Training:   0%|          | 0/351 [00:00<?, ?it/s]"
      ]
     },
     "metadata": {},
     "output_type": "display_data"
    },
    {
     "data": {
      "application/vnd.jupyter.widget-view+json": {
       "model_id": "",
       "version_major": 2,
       "version_minor": 0
      },
      "text/plain": [
       "Training:   0%|          | 0/351 [00:00<?, ?it/s]"
      ]
     },
     "metadata": {},
     "output_type": "display_data"
    },
    {
     "data": {
      "application/vnd.jupyter.widget-view+json": {
       "model_id": "",
       "version_major": 2,
       "version_minor": 0
      },
      "text/plain": [
       "Training:   0%|          | 0/351 [00:00<?, ?it/s]"
      ]
     },
     "metadata": {},
     "output_type": "display_data"
    },
    {
     "data": {
      "application/vnd.jupyter.widget-view+json": {
       "model_id": "",
       "version_major": 2,
       "version_minor": 0
      },
      "text/plain": [
       "Training:   0%|          | 0/351 [00:00<?, ?it/s]"
      ]
     },
     "metadata": {},
     "output_type": "display_data"
    },
    {
     "data": {
      "application/vnd.jupyter.widget-view+json": {
       "model_id": "",
       "version_major": 2,
       "version_minor": 0
      },
      "text/plain": [
       "Training:   0%|          | 0/351 [00:00<?, ?it/s]"
      ]
     },
     "metadata": {},
     "output_type": "display_data"
    },
    {
     "data": {
      "application/vnd.jupyter.widget-view+json": {
       "model_id": "",
       "version_major": 2,
       "version_minor": 0
      },
      "text/plain": [
       "Training:   0%|          | 0/351 [00:00<?, ?it/s]"
      ]
     },
     "metadata": {},
     "output_type": "display_data"
    },
    {
     "data": {
      "application/vnd.jupyter.widget-view+json": {
       "model_id": "",
       "version_major": 2,
       "version_minor": 0
      },
      "text/plain": [
       "Training:   0%|          | 0/351 [00:00<?, ?it/s]"
      ]
     },
     "metadata": {},
     "output_type": "display_data"
    },
    {
     "data": {
      "application/vnd.jupyter.widget-view+json": {
       "model_id": "",
       "version_major": 2,
       "version_minor": 0
      },
      "text/plain": [
       "Training:   0%|          | 0/351 [00:00<?, ?it/s]"
      ]
     },
     "metadata": {},
     "output_type": "display_data"
    },
    {
     "data": {
      "application/vnd.jupyter.widget-view+json": {
       "model_id": "",
       "version_major": 2,
       "version_minor": 0
      },
      "text/plain": [
       "Training:   0%|          | 0/351 [00:00<?, ?it/s]"
      ]
     },
     "metadata": {},
     "output_type": "display_data"
    },
    {
     "data": {
      "application/vnd.jupyter.widget-view+json": {
       "model_id": "",
       "version_major": 2,
       "version_minor": 0
      },
      "text/plain": [
       "Training:   0%|          | 0/351 [00:00<?, ?it/s]"
      ]
     },
     "metadata": {},
     "output_type": "display_data"
    },
    {
     "data": {
      "application/vnd.jupyter.widget-view+json": {
       "model_id": "",
       "version_major": 2,
       "version_minor": 0
      },
      "text/plain": [
       "Training:   0%|          | 0/351 [00:00<?, ?it/s]"
      ]
     },
     "metadata": {},
     "output_type": "display_data"
    },
    {
     "data": {
      "application/vnd.jupyter.widget-view+json": {
       "model_id": "",
       "version_major": 2,
       "version_minor": 0
      },
      "text/plain": [
       "Training:   0%|          | 0/351 [00:00<?, ?it/s]"
      ]
     },
     "metadata": {},
     "output_type": "display_data"
    },
    {
     "data": {
      "application/vnd.jupyter.widget-view+json": {
       "model_id": "",
       "version_major": 2,
       "version_minor": 0
      },
      "text/plain": [
       "Training:   0%|          | 0/351 [00:00<?, ?it/s]"
      ]
     },
     "metadata": {},
     "output_type": "display_data"
    },
    {
     "data": {
      "application/vnd.jupyter.widget-view+json": {
       "model_id": "",
       "version_major": 2,
       "version_minor": 0
      },
      "text/plain": [
       "Training:   0%|          | 0/351 [00:00<?, ?it/s]"
      ]
     },
     "metadata": {},
     "output_type": "display_data"
    },
    {
     "data": {
      "application/vnd.jupyter.widget-view+json": {
       "model_id": "",
       "version_major": 2,
       "version_minor": 0
      },
      "text/plain": [
       "Training:   0%|          | 0/351 [00:00<?, ?it/s]"
      ]
     },
     "metadata": {},
     "output_type": "display_data"
    },
    {
     "data": {
      "application/vnd.jupyter.widget-view+json": {
       "model_id": "",
       "version_major": 2,
       "version_minor": 0
      },
      "text/plain": [
       "Training:   0%|          | 0/351 [00:00<?, ?it/s]"
      ]
     },
     "metadata": {},
     "output_type": "display_data"
    },
    {
     "data": {
      "application/vnd.jupyter.widget-view+json": {
       "model_id": "",
       "version_major": 2,
       "version_minor": 0
      },
      "text/plain": [
       "Training:   0%|          | 0/351 [00:00<?, ?it/s]"
      ]
     },
     "metadata": {},
     "output_type": "display_data"
    },
    {
     "data": {
      "application/vnd.jupyter.widget-view+json": {
       "model_id": "",
       "version_major": 2,
       "version_minor": 0
      },
      "text/plain": [
       "Training:   0%|          | 0/351 [00:00<?, ?it/s]"
      ]
     },
     "metadata": {},
     "output_type": "display_data"
    },
    {
     "data": {
      "application/vnd.jupyter.widget-view+json": {
       "model_id": "",
       "version_major": 2,
       "version_minor": 0
      },
      "text/plain": [
       "Training:   0%|          | 0/351 [00:00<?, ?it/s]"
      ]
     },
     "metadata": {},
     "output_type": "display_data"
    },
    {
     "data": {
      "application/vnd.jupyter.widget-view+json": {
       "model_id": "",
       "version_major": 2,
       "version_minor": 0
      },
      "text/plain": [
       "Training:   0%|          | 0/351 [00:00<?, ?it/s]"
      ]
     },
     "metadata": {},
     "output_type": "display_data"
    },
    {
     "data": {
      "application/vnd.jupyter.widget-view+json": {
       "model_id": "",
       "version_major": 2,
       "version_minor": 0
      },
      "text/plain": [
       "Training:   0%|          | 0/351 [00:00<?, ?it/s]"
      ]
     },
     "metadata": {},
     "output_type": "display_data"
    },
    {
     "data": {
      "application/vnd.jupyter.widget-view+json": {
       "model_id": "",
       "version_major": 2,
       "version_minor": 0
      },
      "text/plain": [
       "Training:   0%|          | 0/351 [00:00<?, ?it/s]"
      ]
     },
     "metadata": {},
     "output_type": "display_data"
    },
    {
     "data": {
      "application/vnd.jupyter.widget-view+json": {
       "model_id": "",
       "version_major": 2,
       "version_minor": 0
      },
      "text/plain": [
       "Training:   0%|          | 0/351 [00:00<?, ?it/s]"
      ]
     },
     "metadata": {},
     "output_type": "display_data"
    },
    {
     "data": {
      "application/vnd.jupyter.widget-view+json": {
       "model_id": "",
       "version_major": 2,
       "version_minor": 0
      },
      "text/plain": [
       "Training:   0%|          | 0/351 [00:00<?, ?it/s]"
      ]
     },
     "metadata": {},
     "output_type": "display_data"
    },
    {
     "data": {
      "application/vnd.jupyter.widget-view+json": {
       "model_id": "",
       "version_major": 2,
       "version_minor": 0
      },
      "text/plain": [
       "Training:   0%|          | 0/351 [00:00<?, ?it/s]"
      ]
     },
     "metadata": {},
     "output_type": "display_data"
    },
    {
     "data": {
      "application/vnd.jupyter.widget-view+json": {
       "model_id": "",
       "version_major": 2,
       "version_minor": 0
      },
      "text/plain": [
       "Training:   0%|          | 0/351 [00:00<?, ?it/s]"
      ]
     },
     "metadata": {},
     "output_type": "display_data"
    },
    {
     "data": {
      "application/vnd.jupyter.widget-view+json": {
       "model_id": "c15b3f971074411ba26afaf69df76bdf",
       "version_major": 2,
       "version_minor": 0
      },
      "text/plain": [
       "Training:   0%|          | 0/351 [00:00<?, ?it/s]"
      ]
     },
     "metadata": {},
     "output_type": "display_data"
    },
    {
     "data": {
      "application/vnd.jupyter.widget-view+json": {
       "model_id": "a63da471df034b1f9e6eacaff5815860",
       "version_major": 2,
       "version_minor": 0
      },
      "text/plain": [
       "Training:   0%|          | 0/351 [00:00<?, ?it/s]"
      ]
     },
     "metadata": {},
     "output_type": "display_data"
    },
    {
     "data": {
      "application/vnd.jupyter.widget-view+json": {
       "model_id": "fc13b530ac9242e0b3bb739ece2ce980",
       "version_major": 2,
       "version_minor": 0
      },
      "text/plain": [
       "Training:   0%|          | 0/351 [00:00<?, ?it/s]"
      ]
     },
     "metadata": {},
     "output_type": "display_data"
    },
    {
     "data": {
      "application/vnd.jupyter.widget-view+json": {
       "model_id": "e99afdfa53c34ccabf242e7f1afe70f6",
       "version_major": 2,
       "version_minor": 0
      },
      "text/plain": [
       "Training:   0%|          | 0/351 [00:00<?, ?it/s]"
      ]
     },
     "metadata": {},
     "output_type": "display_data"
    },
    {
     "data": {
      "application/vnd.jupyter.widget-view+json": {
       "model_id": "14fbad3b8a3548b3967eb305048a95c0",
       "version_major": 2,
       "version_minor": 0
      },
      "text/plain": [
       "Training:   0%|          | 0/351 [00:00<?, ?it/s]"
      ]
     },
     "metadata": {},
     "output_type": "display_data"
    },
    {
     "data": {
      "application/vnd.jupyter.widget-view+json": {
       "model_id": "667470c6bcb14f96b92ed32d3400732e",
       "version_major": 2,
       "version_minor": 0
      },
      "text/plain": [
       "Training:   0%|          | 0/351 [00:00<?, ?it/s]"
      ]
     },
     "metadata": {},
     "output_type": "display_data"
    },
    {
     "data": {
      "application/vnd.jupyter.widget-view+json": {
       "model_id": "6d1e0d5f659a4838978b0e29aa7016b9",
       "version_major": 2,
       "version_minor": 0
      },
      "text/plain": [
       "Training:   0%|          | 0/351 [00:00<?, ?it/s]"
      ]
     },
     "metadata": {},
     "output_type": "display_data"
    },
    {
     "data": {
      "application/vnd.jupyter.widget-view+json": {
       "model_id": "043b720f410e46ca99e960e9e85ec406",
       "version_major": 2,
       "version_minor": 0
      },
      "text/plain": [
       "Training:   0%|          | 0/351 [00:00<?, ?it/s]"
      ]
     },
     "metadata": {},
     "output_type": "display_data"
    },
    {
     "data": {
      "application/vnd.jupyter.widget-view+json": {
       "model_id": "30806af0c4454814b173cd434b848e9d",
       "version_major": 2,
       "version_minor": 0
      },
      "text/plain": [
       "Training:   0%|          | 0/351 [00:00<?, ?it/s]"
      ]
     },
     "metadata": {},
     "output_type": "display_data"
    },
    {
     "data": {
      "application/vnd.jupyter.widget-view+json": {
       "model_id": "d0b4f97b4bf44dab87583318e7bf7d66",
       "version_major": 2,
       "version_minor": 0
      },
      "text/plain": [
       "Training:   0%|          | 0/351 [00:00<?, ?it/s]"
      ]
     },
     "metadata": {},
     "output_type": "display_data"
    },
    {
     "data": {
      "application/vnd.jupyter.widget-view+json": {
       "model_id": "87f88fc6898c43c7bb6d154854f8876f",
       "version_major": 2,
       "version_minor": 0
      },
      "text/plain": [
       "Training:   0%|          | 0/351 [00:00<?, ?it/s]"
      ]
     },
     "metadata": {},
     "output_type": "display_data"
    },
    {
     "data": {
      "application/vnd.jupyter.widget-view+json": {
       "model_id": "d82542d7251f43dea36c6ff1d5fce938",
       "version_major": 2,
       "version_minor": 0
      },
      "text/plain": [
       "Training:   0%|          | 0/351 [00:00<?, ?it/s]"
      ]
     },
     "metadata": {},
     "output_type": "display_data"
    },
    {
     "data": {
      "application/vnd.jupyter.widget-view+json": {
       "model_id": "347092487cbf49acbd8565d2fae930cd",
       "version_major": 2,
       "version_minor": 0
      },
      "text/plain": [
       "Training:   0%|          | 0/351 [00:00<?, ?it/s]"
      ]
     },
     "metadata": {},
     "output_type": "display_data"
    },
    {
     "data": {
      "application/vnd.jupyter.widget-view+json": {
       "model_id": "",
       "version_major": 2,
       "version_minor": 0
      },
      "text/plain": [
       "Training:   0%|          | 0/351 [00:00<?, ?it/s]"
      ]
     },
     "metadata": {},
     "output_type": "display_data"
    },
    {
     "data": {
      "application/vnd.jupyter.widget-view+json": {
       "model_id": "",
       "version_major": 2,
       "version_minor": 0
      },
      "text/plain": [
       "Training:   0%|          | 0/351 [00:00<?, ?it/s]"
      ]
     },
     "metadata": {},
     "output_type": "display_data"
    },
    {
     "data": {
      "application/vnd.jupyter.widget-view+json": {
       "model_id": "",
       "version_major": 2,
       "version_minor": 0
      },
      "text/plain": [
       "Training:   0%|          | 0/351 [00:00<?, ?it/s]"
      ]
     },
     "metadata": {},
     "output_type": "display_data"
    },
    {
     "data": {
      "application/vnd.jupyter.widget-view+json": {
       "model_id": "",
       "version_major": 2,
       "version_minor": 0
      },
      "text/plain": [
       "Training:   0%|          | 0/351 [00:00<?, ?it/s]"
      ]
     },
     "metadata": {},
     "output_type": "display_data"
    },
    {
     "data": {
      "application/vnd.jupyter.widget-view+json": {
       "model_id": "",
       "version_major": 2,
       "version_minor": 0
      },
      "text/plain": [
       "Training:   0%|          | 0/351 [00:00<?, ?it/s]"
      ]
     },
     "metadata": {},
     "output_type": "display_data"
    },
    {
     "data": {
      "application/vnd.jupyter.widget-view+json": {
       "model_id": "",
       "version_major": 2,
       "version_minor": 0
      },
      "text/plain": [
       "Training:   0%|          | 0/351 [00:00<?, ?it/s]"
      ]
     },
     "metadata": {},
     "output_type": "display_data"
    },
    {
     "data": {
      "application/vnd.jupyter.widget-view+json": {
       "model_id": "",
       "version_major": 2,
       "version_minor": 0
      },
      "text/plain": [
       "Training:   0%|          | 0/351 [00:00<?, ?it/s]"
      ]
     },
     "metadata": {},
     "output_type": "display_data"
    },
    {
     "data": {
      "application/vnd.jupyter.widget-view+json": {
       "model_id": "",
       "version_major": 2,
       "version_minor": 0
      },
      "text/plain": [
       "Training:   0%|          | 0/351 [00:00<?, ?it/s]"
      ]
     },
     "metadata": {},
     "output_type": "display_data"
    },
    {
     "data": {
      "application/vnd.jupyter.widget-view+json": {
       "model_id": "",
       "version_major": 2,
       "version_minor": 0
      },
      "text/plain": [
       "Training:   0%|          | 0/351 [00:00<?, ?it/s]"
      ]
     },
     "metadata": {},
     "output_type": "display_data"
    },
    {
     "data": {
      "application/vnd.jupyter.widget-view+json": {
       "model_id": "",
       "version_major": 2,
       "version_minor": 0
      },
      "text/plain": [
       "Training:   0%|          | 0/351 [00:00<?, ?it/s]"
      ]
     },
     "metadata": {},
     "output_type": "display_data"
    },
    {
     "data": {
      "application/vnd.jupyter.widget-view+json": {
       "model_id": "",
       "version_major": 2,
       "version_minor": 0
      },
      "text/plain": [
       "Training:   0%|          | 0/351 [00:00<?, ?it/s]"
      ]
     },
     "metadata": {},
     "output_type": "display_data"
    },
    {
     "data": {
      "application/vnd.jupyter.widget-view+json": {
       "model_id": "",
       "version_major": 2,
       "version_minor": 0
      },
      "text/plain": [
       "Training:   0%|          | 0/351 [00:00<?, ?it/s]"
      ]
     },
     "metadata": {},
     "output_type": "display_data"
    },
    {
     "data": {
      "application/vnd.jupyter.widget-view+json": {
       "model_id": "",
       "version_major": 2,
       "version_minor": 0
      },
      "text/plain": [
       "Training:   0%|          | 0/351 [00:00<?, ?it/s]"
      ]
     },
     "metadata": {},
     "output_type": "display_data"
    },
    {
     "data": {
      "application/vnd.jupyter.widget-view+json": {
       "model_id": "",
       "version_major": 2,
       "version_minor": 0
      },
      "text/plain": [
       "Training:   0%|          | 0/351 [00:00<?, ?it/s]"
      ]
     },
     "metadata": {},
     "output_type": "display_data"
    },
    {
     "data": {
      "application/vnd.jupyter.widget-view+json": {
       "model_id": "",
       "version_major": 2,
       "version_minor": 0
      },
      "text/plain": [
       "Training:   0%|          | 0/351 [00:00<?, ?it/s]"
      ]
     },
     "metadata": {},
     "output_type": "display_data"
    },
    {
     "data": {
      "application/vnd.jupyter.widget-view+json": {
       "model_id": "",
       "version_major": 2,
       "version_minor": 0
      },
      "text/plain": [
       "Training:   0%|          | 0/351 [00:00<?, ?it/s]"
      ]
     },
     "metadata": {},
     "output_type": "display_data"
    },
    {
     "data": {
      "application/vnd.jupyter.widget-view+json": {
       "model_id": "",
       "version_major": 2,
       "version_minor": 0
      },
      "text/plain": [
       "Training:   0%|          | 0/351 [00:00<?, ?it/s]"
      ]
     },
     "metadata": {},
     "output_type": "display_data"
    },
    {
     "data": {
      "application/vnd.jupyter.widget-view+json": {
       "model_id": "",
       "version_major": 2,
       "version_minor": 0
      },
      "text/plain": [
       "Training:   0%|          | 0/351 [00:00<?, ?it/s]"
      ]
     },
     "metadata": {},
     "output_type": "display_data"
    },
    {
     "data": {
      "application/vnd.jupyter.widget-view+json": {
       "model_id": "",
       "version_major": 2,
       "version_minor": 0
      },
      "text/plain": [
       "Training:   0%|          | 0/351 [00:00<?, ?it/s]"
      ]
     },
     "metadata": {},
     "output_type": "display_data"
    },
    {
     "data": {
      "application/vnd.jupyter.widget-view+json": {
       "model_id": "",
       "version_major": 2,
       "version_minor": 0
      },
      "text/plain": [
       "Training:   0%|          | 0/351 [00:00<?, ?it/s]"
      ]
     },
     "metadata": {},
     "output_type": "display_data"
    },
    {
     "data": {
      "application/vnd.jupyter.widget-view+json": {
       "model_id": "",
       "version_major": 2,
       "version_minor": 0
      },
      "text/plain": [
       "Training:   0%|          | 0/351 [00:00<?, ?it/s]"
      ]
     },
     "metadata": {},
     "output_type": "display_data"
    },
    {
     "data": {
      "application/vnd.jupyter.widget-view+json": {
       "model_id": "",
       "version_major": 2,
       "version_minor": 0
      },
      "text/plain": [
       "Training:   0%|          | 0/351 [00:00<?, ?it/s]"
      ]
     },
     "metadata": {},
     "output_type": "display_data"
    },
    {
     "data": {
      "application/vnd.jupyter.widget-view+json": {
       "model_id": "",
       "version_major": 2,
       "version_minor": 0
      },
      "text/plain": [
       "Training:   0%|          | 0/351 [00:00<?, ?it/s]"
      ]
     },
     "metadata": {},
     "output_type": "display_data"
    },
    {
     "data": {
      "application/vnd.jupyter.widget-view+json": {
       "model_id": "",
       "version_major": 2,
       "version_minor": 0
      },
      "text/plain": [
       "Training:   0%|          | 0/351 [00:00<?, ?it/s]"
      ]
     },
     "metadata": {},
     "output_type": "display_data"
    },
    {
     "data": {
      "application/vnd.jupyter.widget-view+json": {
       "model_id": "",
       "version_major": 2,
       "version_minor": 0
      },
      "text/plain": [
       "Training:   0%|          | 0/351 [00:00<?, ?it/s]"
      ]
     },
     "metadata": {},
     "output_type": "display_data"
    },
    {
     "data": {
      "application/vnd.jupyter.widget-view+json": {
       "model_id": "",
       "version_major": 2,
       "version_minor": 0
      },
      "text/plain": [
       "Training:   0%|          | 0/351 [00:00<?, ?it/s]"
      ]
     },
     "metadata": {},
     "output_type": "display_data"
    },
    {
     "data": {
      "application/vnd.jupyter.widget-view+json": {
       "model_id": "",
       "version_major": 2,
       "version_minor": 0
      },
      "text/plain": [
       "Training:   0%|          | 0/351 [00:00<?, ?it/s]"
      ]
     },
     "metadata": {},
     "output_type": "display_data"
    },
    {
     "data": {
      "application/vnd.jupyter.widget-view+json": {
       "model_id": "",
       "version_major": 2,
       "version_minor": 0
      },
      "text/plain": [
       "Training:   0%|          | 0/351 [00:00<?, ?it/s]"
      ]
     },
     "metadata": {},
     "output_type": "display_data"
    },
    {
     "data": {
      "application/vnd.jupyter.widget-view+json": {
       "model_id": "",
       "version_major": 2,
       "version_minor": 0
      },
      "text/plain": [
       "Training:   0%|          | 0/351 [00:00<?, ?it/s]"
      ]
     },
     "metadata": {},
     "output_type": "display_data"
    },
    {
     "data": {
      "application/vnd.jupyter.widget-view+json": {
       "model_id": "",
       "version_major": 2,
       "version_minor": 0
      },
      "text/plain": [
       "Training:   0%|          | 0/351 [00:00<?, ?it/s]"
      ]
     },
     "metadata": {},
     "output_type": "display_data"
    },
    {
     "data": {
      "application/vnd.jupyter.widget-view+json": {
       "model_id": "",
       "version_major": 2,
       "version_minor": 0
      },
      "text/plain": [
       "Training:   0%|          | 0/351 [00:00<?, ?it/s]"
      ]
     },
     "metadata": {},
     "output_type": "display_data"
    },
    {
     "data": {
      "application/vnd.jupyter.widget-view+json": {
       "model_id": "",
       "version_major": 2,
       "version_minor": 0
      },
      "text/plain": [
       "Training:   0%|          | 0/351 [00:00<?, ?it/s]"
      ]
     },
     "metadata": {},
     "output_type": "display_data"
    },
    {
     "data": {
      "application/vnd.jupyter.widget-view+json": {
       "model_id": "",
       "version_major": 2,
       "version_minor": 0
      },
      "text/plain": [
       "Training:   0%|          | 0/351 [00:00<?, ?it/s]"
      ]
     },
     "metadata": {},
     "output_type": "display_data"
    },
    {
     "data": {
      "application/vnd.jupyter.widget-view+json": {
       "model_id": "",
       "version_major": 2,
       "version_minor": 0
      },
      "text/plain": [
       "Training:   0%|          | 0/351 [00:00<?, ?it/s]"
      ]
     },
     "metadata": {},
     "output_type": "display_data"
    },
    {
     "data": {
      "application/vnd.jupyter.widget-view+json": {
       "model_id": "",
       "version_major": 2,
       "version_minor": 0
      },
      "text/plain": [
       "Training:   0%|          | 0/351 [00:00<?, ?it/s]"
      ]
     },
     "metadata": {},
     "output_type": "display_data"
    },
    {
     "data": {
      "application/vnd.jupyter.widget-view+json": {
       "model_id": "",
       "version_major": 2,
       "version_minor": 0
      },
      "text/plain": [
       "Training:   0%|          | 0/351 [00:00<?, ?it/s]"
      ]
     },
     "metadata": {},
     "output_type": "display_data"
    },
    {
     "data": {
      "application/vnd.jupyter.widget-view+json": {
       "model_id": "",
       "version_major": 2,
       "version_minor": 0
      },
      "text/plain": [
       "Training:   0%|          | 0/351 [00:00<?, ?it/s]"
      ]
     },
     "metadata": {},
     "output_type": "display_data"
    },
    {
     "data": {
      "application/vnd.jupyter.widget-view+json": {
       "model_id": "",
       "version_major": 2,
       "version_minor": 0
      },
      "text/plain": [
       "Training:   0%|          | 0/351 [00:00<?, ?it/s]"
      ]
     },
     "metadata": {},
     "output_type": "display_data"
    },
    {
     "data": {
      "application/vnd.jupyter.widget-view+json": {
       "model_id": "",
       "version_major": 2,
       "version_minor": 0
      },
      "text/plain": [
       "Training:   0%|          | 0/351 [00:00<?, ?it/s]"
      ]
     },
     "metadata": {},
     "output_type": "display_data"
    },
    {
     "data": {
      "application/vnd.jupyter.widget-view+json": {
       "model_id": "",
       "version_major": 2,
       "version_minor": 0
      },
      "text/plain": [
       "Training:   0%|          | 0/351 [00:00<?, ?it/s]"
      ]
     },
     "metadata": {},
     "output_type": "display_data"
    },
    {
     "data": {
      "application/vnd.jupyter.widget-view+json": {
       "model_id": "",
       "version_major": 2,
       "version_minor": 0
      },
      "text/plain": [
       "Training:   0%|          | 0/351 [00:00<?, ?it/s]"
      ]
     },
     "metadata": {},
     "output_type": "display_data"
    },
    {
     "data": {
      "application/vnd.jupyter.widget-view+json": {
       "model_id": "",
       "version_major": 2,
       "version_minor": 0
      },
      "text/plain": [
       "Training:   0%|          | 0/351 [00:00<?, ?it/s]"
      ]
     },
     "metadata": {},
     "output_type": "display_data"
    },
    {
     "data": {
      "application/vnd.jupyter.widget-view+json": {
       "model_id": "",
       "version_major": 2,
       "version_minor": 0
      },
      "text/plain": [
       "Training:   0%|          | 0/351 [00:00<?, ?it/s]"
      ]
     },
     "metadata": {},
     "output_type": "display_data"
    },
    {
     "data": {
      "application/vnd.jupyter.widget-view+json": {
       "model_id": "",
       "version_major": 2,
       "version_minor": 0
      },
      "text/plain": [
       "Training:   0%|          | 0/351 [00:00<?, ?it/s]"
      ]
     },
     "metadata": {},
     "output_type": "display_data"
    },
    {
     "data": {
      "application/vnd.jupyter.widget-view+json": {
       "model_id": "",
       "version_major": 2,
       "version_minor": 0
      },
      "text/plain": [
       "Training:   0%|          | 0/351 [00:00<?, ?it/s]"
      ]
     },
     "metadata": {},
     "output_type": "display_data"
    },
    {
     "data": {
      "application/vnd.jupyter.widget-view+json": {
       "model_id": "",
       "version_major": 2,
       "version_minor": 0
      },
      "text/plain": [
       "Training:   0%|          | 0/351 [00:00<?, ?it/s]"
      ]
     },
     "metadata": {},
     "output_type": "display_data"
    },
    {
     "data": {
      "application/vnd.jupyter.widget-view+json": {
       "model_id": "",
       "version_major": 2,
       "version_minor": 0
      },
      "text/plain": [
       "Training:   0%|          | 0/351 [00:00<?, ?it/s]"
      ]
     },
     "metadata": {},
     "output_type": "display_data"
    },
    {
     "data": {
      "application/vnd.jupyter.widget-view+json": {
       "model_id": "",
       "version_major": 2,
       "version_minor": 0
      },
      "text/plain": [
       "Training:   0%|          | 0/351 [00:00<?, ?it/s]"
      ]
     },
     "metadata": {},
     "output_type": "display_data"
    },
    {
     "data": {
      "application/vnd.jupyter.widget-view+json": {
       "model_id": "",
       "version_major": 2,
       "version_minor": 0
      },
      "text/plain": [
       "Training:   0%|          | 0/351 [00:00<?, ?it/s]"
      ]
     },
     "metadata": {},
     "output_type": "display_data"
    },
    {
     "data": {
      "application/vnd.jupyter.widget-view+json": {
       "model_id": "",
       "version_major": 2,
       "version_minor": 0
      },
      "text/plain": [
       "Training:   0%|          | 0/351 [00:00<?, ?it/s]"
      ]
     },
     "metadata": {},
     "output_type": "display_data"
    },
    {
     "data": {
      "application/vnd.jupyter.widget-view+json": {
       "model_id": "",
       "version_major": 2,
       "version_minor": 0
      },
      "text/plain": [
       "Training:   0%|          | 0/351 [00:00<?, ?it/s]"
      ]
     },
     "metadata": {},
     "output_type": "display_data"
    },
    {
     "data": {
      "application/vnd.jupyter.widget-view+json": {
       "model_id": "",
       "version_major": 2,
       "version_minor": 0
      },
      "text/plain": [
       "Training:   0%|          | 0/351 [00:00<?, ?it/s]"
      ]
     },
     "metadata": {},
     "output_type": "display_data"
    },
    {
     "data": {
      "application/vnd.jupyter.widget-view+json": {
       "model_id": "",
       "version_major": 2,
       "version_minor": 0
      },
      "text/plain": [
       "Training:   0%|          | 0/351 [00:00<?, ?it/s]"
      ]
     },
     "metadata": {},
     "output_type": "display_data"
    },
    {
     "data": {
      "application/vnd.jupyter.widget-view+json": {
       "model_id": "",
       "version_major": 2,
       "version_minor": 0
      },
      "text/plain": [
       "Training:   0%|          | 0/351 [00:00<?, ?it/s]"
      ]
     },
     "metadata": {},
     "output_type": "display_data"
    },
    {
     "data": {
      "application/vnd.jupyter.widget-view+json": {
       "model_id": "",
       "version_major": 2,
       "version_minor": 0
      },
      "text/plain": [
       "Training:   0%|          | 0/351 [00:00<?, ?it/s]"
      ]
     },
     "metadata": {},
     "output_type": "display_data"
    },
    {
     "data": {
      "application/vnd.jupyter.widget-view+json": {
       "model_id": "",
       "version_major": 2,
       "version_minor": 0
      },
      "text/plain": [
       "Training:   0%|          | 0/351 [00:00<?, ?it/s]"
      ]
     },
     "metadata": {},
     "output_type": "display_data"
    },
    {
     "data": {
      "application/vnd.jupyter.widget-view+json": {
       "model_id": "",
       "version_major": 2,
       "version_minor": 0
      },
      "text/plain": [
       "Training:   0%|          | 0/351 [00:00<?, ?it/s]"
      ]
     },
     "metadata": {},
     "output_type": "display_data"
    },
    {
     "data": {
      "application/vnd.jupyter.widget-view+json": {
       "model_id": "",
       "version_major": 2,
       "version_minor": 0
      },
      "text/plain": [
       "Training:   0%|          | 0/351 [00:00<?, ?it/s]"
      ]
     },
     "metadata": {},
     "output_type": "display_data"
    },
    {
     "data": {
      "application/vnd.jupyter.widget-view+json": {
       "model_id": "",
       "version_major": 2,
       "version_minor": 0
      },
      "text/plain": [
       "Training:   0%|          | 0/351 [00:00<?, ?it/s]"
      ]
     },
     "metadata": {},
     "output_type": "display_data"
    },
    {
     "data": {
      "application/vnd.jupyter.widget-view+json": {
       "model_id": "",
       "version_major": 2,
       "version_minor": 0
      },
      "text/plain": [
       "Training:   0%|          | 0/351 [00:00<?, ?it/s]"
      ]
     },
     "metadata": {},
     "output_type": "display_data"
    },
    {
     "data": {
      "application/vnd.jupyter.widget-view+json": {
       "model_id": "",
       "version_major": 2,
       "version_minor": 0
      },
      "text/plain": [
       "Training:   0%|          | 0/351 [00:00<?, ?it/s]"
      ]
     },
     "metadata": {},
     "output_type": "display_data"
    },
    {
     "data": {
      "application/vnd.jupyter.widget-view+json": {
       "model_id": "",
       "version_major": 2,
       "version_minor": 0
      },
      "text/plain": [
       "Training:   0%|          | 0/351 [00:00<?, ?it/s]"
      ]
     },
     "metadata": {},
     "output_type": "display_data"
    },
    {
     "data": {
      "application/vnd.jupyter.widget-view+json": {
       "model_id": "",
       "version_major": 2,
       "version_minor": 0
      },
      "text/plain": [
       "Training:   0%|          | 0/351 [00:00<?, ?it/s]"
      ]
     },
     "metadata": {},
     "output_type": "display_data"
    },
    {
     "data": {
      "application/vnd.jupyter.widget-view+json": {
       "model_id": "",
       "version_major": 2,
       "version_minor": 0
      },
      "text/plain": [
       "Training:   0%|          | 0/351 [00:00<?, ?it/s]"
      ]
     },
     "metadata": {},
     "output_type": "display_data"
    },
    {
     "data": {
      "application/vnd.jupyter.widget-view+json": {
       "model_id": "",
       "version_major": 2,
       "version_minor": 0
      },
      "text/plain": [
       "Training:   0%|          | 0/351 [00:00<?, ?it/s]"
      ]
     },
     "metadata": {},
     "output_type": "display_data"
    },
    {
     "data": {
      "application/vnd.jupyter.widget-view+json": {
       "model_id": "",
       "version_major": 2,
       "version_minor": 0
      },
      "text/plain": [
       "Training:   0%|          | 0/351 [00:00<?, ?it/s]"
      ]
     },
     "metadata": {},
     "output_type": "display_data"
    },
    {
     "data": {
      "application/vnd.jupyter.widget-view+json": {
       "model_id": "",
       "version_major": 2,
       "version_minor": 0
      },
      "text/plain": [
       "Training:   0%|          | 0/351 [00:00<?, ?it/s]"
      ]
     },
     "metadata": {},
     "output_type": "display_data"
    },
    {
     "data": {
      "application/vnd.jupyter.widget-view+json": {
       "model_id": "",
       "version_major": 2,
       "version_minor": 0
      },
      "text/plain": [
       "Training:   0%|          | 0/351 [00:00<?, ?it/s]"
      ]
     },
     "metadata": {},
     "output_type": "display_data"
    },
    {
     "data": {
      "application/vnd.jupyter.widget-view+json": {
       "model_id": "",
       "version_major": 2,
       "version_minor": 0
      },
      "text/plain": [
       "Training:   0%|          | 0/351 [00:00<?, ?it/s]"
      ]
     },
     "metadata": {},
     "output_type": "display_data"
    },
    {
     "data": {
      "application/vnd.jupyter.widget-view+json": {
       "model_id": "",
       "version_major": 2,
       "version_minor": 0
      },
      "text/plain": [
       "Training:   0%|          | 0/351 [00:00<?, ?it/s]"
      ]
     },
     "metadata": {},
     "output_type": "display_data"
    },
    {
     "data": {
      "application/vnd.jupyter.widget-view+json": {
       "model_id": "",
       "version_major": 2,
       "version_minor": 0
      },
      "text/plain": [
       "Training:   0%|          | 0/351 [00:00<?, ?it/s]"
      ]
     },
     "metadata": {},
     "output_type": "display_data"
    },
    {
     "data": {
      "application/vnd.jupyter.widget-view+json": {
       "model_id": "",
       "version_major": 2,
       "version_minor": 0
      },
      "text/plain": [
       "Training:   0%|          | 0/351 [00:00<?, ?it/s]"
      ]
     },
     "metadata": {},
     "output_type": "display_data"
    },
    {
     "data": {
      "application/vnd.jupyter.widget-view+json": {
       "model_id": "",
       "version_major": 2,
       "version_minor": 0
      },
      "text/plain": [
       "Training:   0%|          | 0/351 [00:00<?, ?it/s]"
      ]
     },
     "metadata": {},
     "output_type": "display_data"
    },
    {
     "data": {
      "application/vnd.jupyter.widget-view+json": {
       "model_id": "",
       "version_major": 2,
       "version_minor": 0
      },
      "text/plain": [
       "Training:   0%|          | 0/351 [00:00<?, ?it/s]"
      ]
     },
     "metadata": {},
     "output_type": "display_data"
    },
    {
     "data": {
      "application/vnd.jupyter.widget-view+json": {
       "model_id": "",
       "version_major": 2,
       "version_minor": 0
      },
      "text/plain": [
       "Training:   0%|          | 0/351 [00:00<?, ?it/s]"
      ]
     },
     "metadata": {},
     "output_type": "display_data"
    },
    {
     "data": {
      "application/vnd.jupyter.widget-view+json": {
       "model_id": "",
       "version_major": 2,
       "version_minor": 0
      },
      "text/plain": [
       "Training:   0%|          | 0/351 [00:00<?, ?it/s]"
      ]
     },
     "metadata": {},
     "output_type": "display_data"
    },
    {
     "data": {
      "application/vnd.jupyter.widget-view+json": {
       "model_id": "",
       "version_major": 2,
       "version_minor": 0
      },
      "text/plain": [
       "Training:   0%|          | 0/351 [00:00<?, ?it/s]"
      ]
     },
     "metadata": {},
     "output_type": "display_data"
    },
    {
     "data": {
      "application/vnd.jupyter.widget-view+json": {
       "model_id": "",
       "version_major": 2,
       "version_minor": 0
      },
      "text/plain": [
       "Training:   0%|          | 0/351 [00:00<?, ?it/s]"
      ]
     },
     "metadata": {},
     "output_type": "display_data"
    },
    {
     "data": {
      "application/vnd.jupyter.widget-view+json": {
       "model_id": "",
       "version_major": 2,
       "version_minor": 0
      },
      "text/plain": [
       "Training:   0%|          | 0/351 [00:00<?, ?it/s]"
      ]
     },
     "metadata": {},
     "output_type": "display_data"
    },
    {
     "data": {
      "application/vnd.jupyter.widget-view+json": {
       "model_id": "",
       "version_major": 2,
       "version_minor": 0
      },
      "text/plain": [
       "Training:   0%|          | 0/351 [00:00<?, ?it/s]"
      ]
     },
     "metadata": {},
     "output_type": "display_data"
    },
    {
     "data": {
      "application/vnd.jupyter.widget-view+json": {
       "model_id": "",
       "version_major": 2,
       "version_minor": 0
      },
      "text/plain": [
       "Training:   0%|          | 0/351 [00:00<?, ?it/s]"
      ]
     },
     "metadata": {},
     "output_type": "display_data"
    },
    {
     "data": {
      "application/vnd.jupyter.widget-view+json": {
       "model_id": "",
       "version_major": 2,
       "version_minor": 0
      },
      "text/plain": [
       "Training:   0%|          | 0/351 [00:00<?, ?it/s]"
      ]
     },
     "metadata": {},
     "output_type": "display_data"
    },
    {
     "data": {
      "application/vnd.jupyter.widget-view+json": {
       "model_id": "",
       "version_major": 2,
       "version_minor": 0
      },
      "text/plain": [
       "Training:   0%|          | 0/351 [00:00<?, ?it/s]"
      ]
     },
     "metadata": {},
     "output_type": "display_data"
    },
    {
     "data": {
      "application/vnd.jupyter.widget-view+json": {
       "model_id": "",
       "version_major": 2,
       "version_minor": 0
      },
      "text/plain": [
       "Training:   0%|          | 0/351 [00:00<?, ?it/s]"
      ]
     },
     "metadata": {},
     "output_type": "display_data"
    },
    {
     "data": {
      "application/vnd.jupyter.widget-view+json": {
       "model_id": "",
       "version_major": 2,
       "version_minor": 0
      },
      "text/plain": [
       "Training:   0%|          | 0/351 [00:00<?, ?it/s]"
      ]
     },
     "metadata": {},
     "output_type": "display_data"
    },
    {
     "data": {
      "application/vnd.jupyter.widget-view+json": {
       "model_id": "",
       "version_major": 2,
       "version_minor": 0
      },
      "text/plain": [
       "Training:   0%|          | 0/351 [00:00<?, ?it/s]"
      ]
     },
     "metadata": {},
     "output_type": "display_data"
    },
    {
     "data": {
      "application/vnd.jupyter.widget-view+json": {
       "model_id": "",
       "version_major": 2,
       "version_minor": 0
      },
      "text/plain": [
       "Training:   0%|          | 0/351 [00:00<?, ?it/s]"
      ]
     },
     "metadata": {},
     "output_type": "display_data"
    },
    {
     "data": {
      "application/vnd.jupyter.widget-view+json": {
       "model_id": "",
       "version_major": 2,
       "version_minor": 0
      },
      "text/plain": [
       "Training:   0%|          | 0/351 [00:00<?, ?it/s]"
      ]
     },
     "metadata": {},
     "output_type": "display_data"
    },
    {
     "data": {
      "application/vnd.jupyter.widget-view+json": {
       "model_id": "",
       "version_major": 2,
       "version_minor": 0
      },
      "text/plain": [
       "Training:   0%|          | 0/351 [00:00<?, ?it/s]"
      ]
     },
     "metadata": {},
     "output_type": "display_data"
    },
    {
     "data": {
      "application/vnd.jupyter.widget-view+json": {
       "model_id": "",
       "version_major": 2,
       "version_minor": 0
      },
      "text/plain": [
       "Training:   0%|          | 0/351 [00:00<?, ?it/s]"
      ]
     },
     "metadata": {},
     "output_type": "display_data"
    },
    {
     "data": {
      "application/vnd.jupyter.widget-view+json": {
       "model_id": "",
       "version_major": 2,
       "version_minor": 0
      },
      "text/plain": [
       "Training:   0%|          | 0/351 [00:00<?, ?it/s]"
      ]
     },
     "metadata": {},
     "output_type": "display_data"
    },
    {
     "data": {
      "application/vnd.jupyter.widget-view+json": {
       "model_id": "",
       "version_major": 2,
       "version_minor": 0
      },
      "text/plain": [
       "Training:   0%|          | 0/351 [00:00<?, ?it/s]"
      ]
     },
     "metadata": {},
     "output_type": "display_data"
    },
    {
     "data": {
      "application/vnd.jupyter.widget-view+json": {
       "model_id": "",
       "version_major": 2,
       "version_minor": 0
      },
      "text/plain": [
       "Training:   0%|          | 0/351 [00:00<?, ?it/s]"
      ]
     },
     "metadata": {},
     "output_type": "display_data"
    },
    {
     "data": {
      "application/vnd.jupyter.widget-view+json": {
       "model_id": "",
       "version_major": 2,
       "version_minor": 0
      },
      "text/plain": [
       "Training:   0%|          | 0/351 [00:00<?, ?it/s]"
      ]
     },
     "metadata": {},
     "output_type": "display_data"
    },
    {
     "data": {
      "application/vnd.jupyter.widget-view+json": {
       "model_id": "",
       "version_major": 2,
       "version_minor": 0
      },
      "text/plain": [
       "Training:   0%|          | 0/351 [00:00<?, ?it/s]"
      ]
     },
     "metadata": {},
     "output_type": "display_data"
    },
    {
     "data": {
      "application/vnd.jupyter.widget-view+json": {
       "model_id": "",
       "version_major": 2,
       "version_minor": 0
      },
      "text/plain": [
       "Training:   0%|          | 0/351 [00:00<?, ?it/s]"
      ]
     },
     "metadata": {},
     "output_type": "display_data"
    },
    {
     "data": {
      "application/vnd.jupyter.widget-view+json": {
       "model_id": "",
       "version_major": 2,
       "version_minor": 0
      },
      "text/plain": [
       "Training:   0%|          | 0/351 [00:00<?, ?it/s]"
      ]
     },
     "metadata": {},
     "output_type": "display_data"
    },
    {
     "data": {
      "application/vnd.jupyter.widget-view+json": {
       "model_id": "",
       "version_major": 2,
       "version_minor": 0
      },
      "text/plain": [
       "Training:   0%|          | 0/351 [00:00<?, ?it/s]"
      ]
     },
     "metadata": {},
     "output_type": "display_data"
    },
    {
     "data": {
      "application/vnd.jupyter.widget-view+json": {
       "model_id": "",
       "version_major": 2,
       "version_minor": 0
      },
      "text/plain": [
       "Training:   0%|          | 0/351 [00:00<?, ?it/s]"
      ]
     },
     "metadata": {},
     "output_type": "display_data"
    },
    {
     "data": {
      "application/vnd.jupyter.widget-view+json": {
       "model_id": "",
       "version_major": 2,
       "version_minor": 0
      },
      "text/plain": [
       "Training:   0%|          | 0/351 [00:00<?, ?it/s]"
      ]
     },
     "metadata": {},
     "output_type": "display_data"
    },
    {
     "data": {
      "application/vnd.jupyter.widget-view+json": {
       "model_id": "",
       "version_major": 2,
       "version_minor": 0
      },
      "text/plain": [
       "Training:   0%|          | 0/351 [00:00<?, ?it/s]"
      ]
     },
     "metadata": {},
     "output_type": "display_data"
    },
    {
     "data": {
      "application/vnd.jupyter.widget-view+json": {
       "model_id": "",
       "version_major": 2,
       "version_minor": 0
      },
      "text/plain": [
       "Training:   0%|          | 0/351 [00:00<?, ?it/s]"
      ]
     },
     "metadata": {},
     "output_type": "display_data"
    },
    {
     "data": {
      "application/vnd.jupyter.widget-view+json": {
       "model_id": "",
       "version_major": 2,
       "version_minor": 0
      },
      "text/plain": [
       "Training:   0%|          | 0/351 [00:00<?, ?it/s]"
      ]
     },
     "metadata": {},
     "output_type": "display_data"
    },
    {
     "data": {
      "application/vnd.jupyter.widget-view+json": {
       "model_id": "",
       "version_major": 2,
       "version_minor": 0
      },
      "text/plain": [
       "Training:   0%|          | 0/351 [00:00<?, ?it/s]"
      ]
     },
     "metadata": {},
     "output_type": "display_data"
    },
    {
     "data": {
      "application/vnd.jupyter.widget-view+json": {
       "model_id": "",
       "version_major": 2,
       "version_minor": 0
      },
      "text/plain": [
       "Training:   0%|          | 0/351 [00:00<?, ?it/s]"
      ]
     },
     "metadata": {},
     "output_type": "display_data"
    },
    {
     "data": {
      "application/vnd.jupyter.widget-view+json": {
       "model_id": "",
       "version_major": 2,
       "version_minor": 0
      },
      "text/plain": [
       "Training:   0%|          | 0/351 [00:00<?, ?it/s]"
      ]
     },
     "metadata": {},
     "output_type": "display_data"
    },
    {
     "data": {
      "application/vnd.jupyter.widget-view+json": {
       "model_id": "",
       "version_major": 2,
       "version_minor": 0
      },
      "text/plain": [
       "Training:   0%|          | 0/351 [00:00<?, ?it/s]"
      ]
     },
     "metadata": {},
     "output_type": "display_data"
    },
    {
     "data": {
      "application/vnd.jupyter.widget-view+json": {
       "model_id": "",
       "version_major": 2,
       "version_minor": 0
      },
      "text/plain": [
       "Training:   0%|          | 0/351 [00:00<?, ?it/s]"
      ]
     },
     "metadata": {},
     "output_type": "display_data"
    },
    {
     "data": {
      "application/vnd.jupyter.widget-view+json": {
       "model_id": "",
       "version_major": 2,
       "version_minor": 0
      },
      "text/plain": [
       "Training:   0%|          | 0/351 [00:00<?, ?it/s]"
      ]
     },
     "metadata": {},
     "output_type": "display_data"
    },
    {
     "data": {
      "application/vnd.jupyter.widget-view+json": {
       "model_id": "",
       "version_major": 2,
       "version_minor": 0
      },
      "text/plain": [
       "Training:   0%|          | 0/351 [00:00<?, ?it/s]"
      ]
     },
     "metadata": {},
     "output_type": "display_data"
    },
    {
     "data": {
      "application/vnd.jupyter.widget-view+json": {
       "model_id": "",
       "version_major": 2,
       "version_minor": 0
      },
      "text/plain": [
       "Training:   0%|          | 0/351 [00:00<?, ?it/s]"
      ]
     },
     "metadata": {},
     "output_type": "display_data"
    },
    {
     "data": {
      "application/vnd.jupyter.widget-view+json": {
       "model_id": "",
       "version_major": 2,
       "version_minor": 0
      },
      "text/plain": [
       "Training:   0%|          | 0/351 [00:00<?, ?it/s]"
      ]
     },
     "metadata": {},
     "output_type": "display_data"
    },
    {
     "data": {
      "application/vnd.jupyter.widget-view+json": {
       "model_id": "",
       "version_major": 2,
       "version_minor": 0
      },
      "text/plain": [
       "Training:   0%|          | 0/351 [00:00<?, ?it/s]"
      ]
     },
     "metadata": {},
     "output_type": "display_data"
    },
    {
     "data": {
      "application/vnd.jupyter.widget-view+json": {
       "model_id": "",
       "version_major": 2,
       "version_minor": 0
      },
      "text/plain": [
       "Training:   0%|          | 0/351 [00:00<?, ?it/s]"
      ]
     },
     "metadata": {},
     "output_type": "display_data"
    },
    {
     "data": {
      "application/vnd.jupyter.widget-view+json": {
       "model_id": "",
       "version_major": 2,
       "version_minor": 0
      },
      "text/plain": [
       "Training:   0%|          | 0/351 [00:00<?, ?it/s]"
      ]
     },
     "metadata": {},
     "output_type": "display_data"
    },
    {
     "data": {
      "application/vnd.jupyter.widget-view+json": {
       "model_id": "",
       "version_major": 2,
       "version_minor": 0
      },
      "text/plain": [
       "Training:   0%|          | 0/351 [00:00<?, ?it/s]"
      ]
     },
     "metadata": {},
     "output_type": "display_data"
    },
    {
     "data": {
      "application/vnd.jupyter.widget-view+json": {
       "model_id": "",
       "version_major": 2,
       "version_minor": 0
      },
      "text/plain": [
       "Training:   0%|          | 0/351 [00:00<?, ?it/s]"
      ]
     },
     "metadata": {},
     "output_type": "display_data"
    },
    {
     "data": {
      "application/vnd.jupyter.widget-view+json": {
       "model_id": "",
       "version_major": 2,
       "version_minor": 0
      },
      "text/plain": [
       "Training:   0%|          | 0/351 [00:00<?, ?it/s]"
      ]
     },
     "metadata": {},
     "output_type": "display_data"
    },
    {
     "data": {
      "application/vnd.jupyter.widget-view+json": {
       "model_id": "",
       "version_major": 2,
       "version_minor": 0
      },
      "text/plain": [
       "Training:   0%|          | 0/351 [00:00<?, ?it/s]"
      ]
     },
     "metadata": {},
     "output_type": "display_data"
    },
    {
     "data": {
      "application/vnd.jupyter.widget-view+json": {
       "model_id": "",
       "version_major": 2,
       "version_minor": 0
      },
      "text/plain": [
       "Training:   0%|          | 0/351 [00:00<?, ?it/s]"
      ]
     },
     "metadata": {},
     "output_type": "display_data"
    },
    {
     "data": {
      "application/vnd.jupyter.widget-view+json": {
       "model_id": "",
       "version_major": 2,
       "version_minor": 0
      },
      "text/plain": [
       "Training:   0%|          | 0/351 [00:00<?, ?it/s]"
      ]
     },
     "metadata": {},
     "output_type": "display_data"
    },
    {
     "data": {
      "application/vnd.jupyter.widget-view+json": {
       "model_id": "",
       "version_major": 2,
       "version_minor": 0
      },
      "text/plain": [
       "Training:   0%|          | 0/351 [00:00<?, ?it/s]"
      ]
     },
     "metadata": {},
     "output_type": "display_data"
    },
    {
     "data": {
      "application/vnd.jupyter.widget-view+json": {
       "model_id": "",
       "version_major": 2,
       "version_minor": 0
      },
      "text/plain": [
       "Training:   0%|          | 0/351 [00:00<?, ?it/s]"
      ]
     },
     "metadata": {},
     "output_type": "display_data"
    },
    {
     "data": {
      "application/vnd.jupyter.widget-view+json": {
       "model_id": "",
       "version_major": 2,
       "version_minor": 0
      },
      "text/plain": [
       "Training:   0%|          | 0/351 [00:00<?, ?it/s]"
      ]
     },
     "metadata": {},
     "output_type": "display_data"
    },
    {
     "data": {
      "application/vnd.jupyter.widget-view+json": {
       "model_id": "",
       "version_major": 2,
       "version_minor": 0
      },
      "text/plain": [
       "Training:   0%|          | 0/351 [00:00<?, ?it/s]"
      ]
     },
     "metadata": {},
     "output_type": "display_data"
    },
    {
     "data": {
      "application/vnd.jupyter.widget-view+json": {
       "model_id": "",
       "version_major": 2,
       "version_minor": 0
      },
      "text/plain": [
       "Training:   0%|          | 0/351 [00:00<?, ?it/s]"
      ]
     },
     "metadata": {},
     "output_type": "display_data"
    },
    {
     "data": {
      "application/vnd.jupyter.widget-view+json": {
       "model_id": "",
       "version_major": 2,
       "version_minor": 0
      },
      "text/plain": [
       "Training:   0%|          | 0/351 [00:00<?, ?it/s]"
      ]
     },
     "metadata": {},
     "output_type": "display_data"
    },
    {
     "data": {
      "application/vnd.jupyter.widget-view+json": {
       "model_id": "",
       "version_major": 2,
       "version_minor": 0
      },
      "text/plain": [
       "Training:   0%|          | 0/351 [00:00<?, ?it/s]"
      ]
     },
     "metadata": {},
     "output_type": "display_data"
    },
    {
     "data": {
      "application/vnd.jupyter.widget-view+json": {
       "model_id": "",
       "version_major": 2,
       "version_minor": 0
      },
      "text/plain": [
       "Training:   0%|          | 0/351 [00:00<?, ?it/s]"
      ]
     },
     "metadata": {},
     "output_type": "display_data"
    },
    {
     "data": {
      "application/vnd.jupyter.widget-view+json": {
       "model_id": "",
       "version_major": 2,
       "version_minor": 0
      },
      "text/plain": [
       "Training:   0%|          | 0/351 [00:00<?, ?it/s]"
      ]
     },
     "metadata": {},
     "output_type": "display_data"
    },
    {
     "data": {
      "application/vnd.jupyter.widget-view+json": {
       "model_id": "",
       "version_major": 2,
       "version_minor": 0
      },
      "text/plain": [
       "Training:   0%|          | 0/351 [00:00<?, ?it/s]"
      ]
     },
     "metadata": {},
     "output_type": "display_data"
    },
    {
     "data": {
      "application/vnd.jupyter.widget-view+json": {
       "model_id": "",
       "version_major": 2,
       "version_minor": 0
      },
      "text/plain": [
       "Training:   0%|          | 0/351 [00:00<?, ?it/s]"
      ]
     },
     "metadata": {},
     "output_type": "display_data"
    },
    {
     "data": {
      "application/vnd.jupyter.widget-view+json": {
       "model_id": "",
       "version_major": 2,
       "version_minor": 0
      },
      "text/plain": [
       "Training:   0%|          | 0/351 [00:00<?, ?it/s]"
      ]
     },
     "metadata": {},
     "output_type": "display_data"
    },
    {
     "data": {
      "application/vnd.jupyter.widget-view+json": {
       "model_id": "",
       "version_major": 2,
       "version_minor": 0
      },
      "text/plain": [
       "Training:   0%|          | 0/351 [00:00<?, ?it/s]"
      ]
     },
     "metadata": {},
     "output_type": "display_data"
    },
    {
     "data": {
      "application/vnd.jupyter.widget-view+json": {
       "model_id": "",
       "version_major": 2,
       "version_minor": 0
      },
      "text/plain": [
       "Training:   0%|          | 0/351 [00:00<?, ?it/s]"
      ]
     },
     "metadata": {},
     "output_type": "display_data"
    },
    {
     "data": {
      "application/vnd.jupyter.widget-view+json": {
       "model_id": "",
       "version_major": 2,
       "version_minor": 0
      },
      "text/plain": [
       "Training:   0%|          | 0/351 [00:00<?, ?it/s]"
      ]
     },
     "metadata": {},
     "output_type": "display_data"
    },
    {
     "data": {
      "application/vnd.jupyter.widget-view+json": {
       "model_id": "",
       "version_major": 2,
       "version_minor": 0
      },
      "text/plain": [
       "Training:   0%|          | 0/351 [00:00<?, ?it/s]"
      ]
     },
     "metadata": {},
     "output_type": "display_data"
    },
    {
     "data": {
      "application/vnd.jupyter.widget-view+json": {
       "model_id": "",
       "version_major": 2,
       "version_minor": 0
      },
      "text/plain": [
       "Training:   0%|          | 0/351 [00:00<?, ?it/s]"
      ]
     },
     "metadata": {},
     "output_type": "display_data"
    },
    {
     "ename": "TypeError",
     "evalue": "'NoneType' object is not subscriptable",
     "output_type": "error",
     "traceback": [
      "\u001b[0;31m---------------------------------------------------------------------------\u001b[0m",
      "\u001b[0;31mTypeError\u001b[0m                                 Traceback (most recent call last)",
      "Cell \u001b[0;32mIn[18], line 1\u001b[0m\n\u001b[0;32m----> 1\u001b[0m densenet_trainer, densenet_results \u001b[38;5;241m=\u001b[39m \u001b[43mtrain_classifier\u001b[49m\u001b[43m(\u001b[49m\u001b[43mmodel_name\u001b[49m\u001b[38;5;241;43m=\u001b[39;49m\u001b[38;5;124;43m\"\u001b[39;49m\u001b[38;5;124;43mDenseNet\u001b[39;49m\u001b[38;5;124;43m\"\u001b[39;49m\u001b[43m,\u001b[49m\n\u001b[1;32m      2\u001b[0m \u001b[43m                                                      \u001b[49m\u001b[43mmodel_class\u001b[49m\u001b[38;5;241;43m=\u001b[39;49m\u001b[43mDenseNet\u001b[49m\u001b[43m,\u001b[49m\n\u001b[1;32m      3\u001b[0m \u001b[43m                                                      \u001b[49m\u001b[43mmodel_hparams\u001b[49m\u001b[38;5;241;43m=\u001b[39;49m\u001b[43m{\u001b[49m\u001b[38;5;124;43m\"\u001b[39;49m\u001b[38;5;124;43mnum_classes\u001b[39;49m\u001b[38;5;124;43m\"\u001b[39;49m\u001b[43m:\u001b[49m\u001b[43m \u001b[49m\u001b[38;5;241;43m10\u001b[39;49m\u001b[43m,\u001b[49m\n\u001b[1;32m      4\u001b[0m \u001b[43m                                                                     \u001b[49m\u001b[38;5;124;43m\"\u001b[39;49m\u001b[38;5;124;43mnum_layers\u001b[39;49m\u001b[38;5;124;43m\"\u001b[39;49m\u001b[43m:\u001b[49m\u001b[43m \u001b[49m\u001b[43m[\u001b[49m\u001b[38;5;241;43m6\u001b[39;49m\u001b[43m,\u001b[49m\u001b[43m \u001b[49m\u001b[38;5;241;43m12\u001b[39;49m\u001b[43m,\u001b[49m\u001b[43m \u001b[49m\u001b[38;5;241;43m24\u001b[39;49m\u001b[43m,\u001b[49m\u001b[43m \u001b[49m\u001b[38;5;241;43m16\u001b[39;49m\u001b[43m]\u001b[49m\u001b[43m,\u001b[49m\n\u001b[1;32m      5\u001b[0m \u001b[43m                                                                     \u001b[49m\u001b[38;5;124;43m\"\u001b[39;49m\u001b[38;5;124;43mbn_size\u001b[39;49m\u001b[38;5;124;43m\"\u001b[39;49m\u001b[43m:\u001b[49m\u001b[43m \u001b[49m\u001b[38;5;241;43m4\u001b[39;49m\u001b[43m,\u001b[49m\n\u001b[1;32m      6\u001b[0m \u001b[43m                                                                     \u001b[49m\u001b[38;5;124;43m\"\u001b[39;49m\u001b[38;5;124;43mgrowth_rate\u001b[39;49m\u001b[38;5;124;43m\"\u001b[39;49m\u001b[43m:\u001b[49m\u001b[43m \u001b[49m\u001b[38;5;241;43m32\u001b[39;49m\u001b[43m,\u001b[49m\n\u001b[1;32m      7\u001b[0m \u001b[43m                                                                     \u001b[49m\u001b[38;5;124;43m\"\u001b[39;49m\u001b[38;5;124;43mact_fn\u001b[39;49m\u001b[38;5;124;43m\"\u001b[39;49m\u001b[43m:\u001b[49m\u001b[43m \u001b[49m\u001b[43mnn\u001b[49m\u001b[38;5;241;43m.\u001b[39;49m\u001b[43mrelu\u001b[49m\u001b[43m}\u001b[49m\u001b[43m,\u001b[49m\n\u001b[1;32m      8\u001b[0m \u001b[43m                                                      \u001b[49m\u001b[43moptimizer_name\u001b[49m\u001b[38;5;241;43m=\u001b[39;49m\u001b[38;5;124;43m\"\u001b[39;49m\u001b[38;5;124;43madamw\u001b[39;49m\u001b[38;5;124;43m\"\u001b[39;49m\u001b[43m,\u001b[49m\n\u001b[1;32m      9\u001b[0m \u001b[43m                                                      \u001b[49m\u001b[43moptimizer_hparams\u001b[49m\u001b[38;5;241;43m=\u001b[39;49m\u001b[43m{\u001b[49m\u001b[38;5;124;43m\"\u001b[39;49m\u001b[38;5;124;43mlr\u001b[39;49m\u001b[38;5;124;43m\"\u001b[39;49m\u001b[43m:\u001b[49m\u001b[43m \u001b[49m\u001b[38;5;241;43m1e-3\u001b[39;49m\u001b[43m,\u001b[49m\n\u001b[1;32m     10\u001b[0m \u001b[43m                                                                         \u001b[49m\u001b[38;5;124;43m\"\u001b[39;49m\u001b[38;5;124;43mweight_decay\u001b[39;49m\u001b[38;5;124;43m\"\u001b[39;49m\u001b[43m:\u001b[49m\u001b[43m \u001b[49m\u001b[38;5;241;43m1e-4\u001b[39;49m\u001b[43m}\u001b[49m\u001b[43m,\u001b[49m\n\u001b[1;32m     11\u001b[0m \u001b[43m                                                      \u001b[49m\u001b[43mexmp_imgs\u001b[49m\u001b[38;5;241;43m=\u001b[39;49m\u001b[43mjax\u001b[49m\u001b[38;5;241;43m.\u001b[39;49m\u001b[43mdevice_put\u001b[49m\u001b[43m(\u001b[49m\n\u001b[1;32m     12\u001b[0m \u001b[43m                                                          \u001b[49m\u001b[38;5;28;43mnext\u001b[39;49m\u001b[43m(\u001b[49m\u001b[38;5;28;43miter\u001b[39;49m\u001b[43m(\u001b[49m\u001b[43mtrain_loader\u001b[49m\u001b[43m)\u001b[49m\u001b[43m)\u001b[49m\u001b[43m[\u001b[49m\u001b[38;5;241;43m0\u001b[39;49m\u001b[43m]\u001b[49m\u001b[43m)\u001b[49m\u001b[43m,\u001b[49m\n\u001b[1;32m     13\u001b[0m \u001b[43m                                                      \u001b[49m\u001b[43mnum_epochs\u001b[49m\u001b[38;5;241;43m=\u001b[39;49m\u001b[38;5;241;43m200\u001b[39;49m\u001b[43m)\u001b[49m\n",
      "Cell \u001b[0;32mIn[13], line 6\u001b[0m, in \u001b[0;36mtrain_classifier\u001b[0;34m(num_epochs, *args, **kwargs)\u001b[0m\n\u001b[1;32m      4\u001b[0m \u001b[38;5;28;01mif\u001b[39;00m \u001b[38;5;129;01mnot\u001b[39;00m trainer\u001b[38;5;241m.\u001b[39mcheckpoint_exists():  \u001b[38;5;66;03m# Skip training if pretrained model exists\u001b[39;00m\n\u001b[1;32m      5\u001b[0m     trainer\u001b[38;5;241m.\u001b[39mtrain_model(train_loader, val_loader, num_epochs\u001b[38;5;241m=\u001b[39mnum_epochs)\n\u001b[0;32m----> 6\u001b[0m     \u001b[43mtrainer\u001b[49m\u001b[38;5;241;43m.\u001b[39;49m\u001b[43mload_model\u001b[49m\u001b[43m(\u001b[49m\u001b[43m)\u001b[49m\n\u001b[1;32m      7\u001b[0m \u001b[38;5;28;01melse\u001b[39;00m:\n\u001b[1;32m      8\u001b[0m     trainer\u001b[38;5;241m.\u001b[39mload_model(pretrained\u001b[38;5;241m=\u001b[39m\u001b[38;5;28;01mTrue\u001b[39;00m)\n",
      "Cell \u001b[0;32mIn[12], line 178\u001b[0m, in \u001b[0;36mTrainerModule.load_model\u001b[0;34m(self, pretrained)\u001b[0m\n\u001b[1;32m    175\u001b[0m \u001b[38;5;28;01melse\u001b[39;00m:\n\u001b[1;32m    176\u001b[0m     state_dict \u001b[38;5;241m=\u001b[39m checkpoints\u001b[38;5;241m.\u001b[39mrestore_checkpoint(ckpt_dir\u001b[38;5;241m=\u001b[39mos\u001b[38;5;241m.\u001b[39mpath\u001b[38;5;241m.\u001b[39mjoin(CHECKPOINT_PATH, \u001b[38;5;124mf\u001b[39m\u001b[38;5;124m'\u001b[39m\u001b[38;5;132;01m{\u001b[39;00m\u001b[38;5;28mself\u001b[39m\u001b[38;5;241m.\u001b[39mmodel_name\u001b[38;5;132;01m}\u001b[39;00m\u001b[38;5;124m.ckpt\u001b[39m\u001b[38;5;124m'\u001b[39m), target\u001b[38;5;241m=\u001b[39m\u001b[38;5;28;01mNone\u001b[39;00m)\n\u001b[1;32m    177\u001b[0m \u001b[38;5;28mself\u001b[39m\u001b[38;5;241m.\u001b[39mstate \u001b[38;5;241m=\u001b[39m TrainState\u001b[38;5;241m.\u001b[39mcreate(apply_fn\u001b[38;5;241m=\u001b[39m\u001b[38;5;28mself\u001b[39m\u001b[38;5;241m.\u001b[39mmodel\u001b[38;5;241m.\u001b[39mapply,\n\u001b[0;32m--> 178\u001b[0m                                params\u001b[38;5;241m=\u001b[39m\u001b[43mstate_dict\u001b[49m\u001b[43m[\u001b[49m\u001b[38;5;124;43m'\u001b[39;49m\u001b[38;5;124;43mparams\u001b[39;49m\u001b[38;5;124;43m'\u001b[39;49m\u001b[43m]\u001b[49m,\n\u001b[1;32m    179\u001b[0m                                batch_stats\u001b[38;5;241m=\u001b[39mstate_dict[\u001b[38;5;124m'\u001b[39m\u001b[38;5;124mbatch_stats\u001b[39m\u001b[38;5;124m'\u001b[39m],\n\u001b[1;32m    180\u001b[0m                                tx\u001b[38;5;241m=\u001b[39m\u001b[38;5;28mself\u001b[39m\u001b[38;5;241m.\u001b[39mstate\u001b[38;5;241m.\u001b[39mtx \u001b[38;5;28;01mif\u001b[39;00m \u001b[38;5;28mself\u001b[39m\u001b[38;5;241m.\u001b[39mstate \u001b[38;5;28;01melse\u001b[39;00m optax\u001b[38;5;241m.\u001b[39msgd(\u001b[38;5;241m0.1\u001b[39m)   \u001b[38;5;66;03m# Default optimizer\u001b[39;00m\n\u001b[1;32m    181\u001b[0m                               )\n",
      "\u001b[0;31mTypeError\u001b[0m: 'NoneType' object is not subscriptable"
     ]
    }
   ],
   "source": [
    "densenet_trainer, densenet_results = train_classifier(model_name=\"DenseNet\",\n",
    "                                                      model_class=DenseNet,\n",
    "                                                      model_hparams={\"num_classes\": 10,\n",
    "                                                                     \"num_layers\": [6, 12, 24, 16],\n",
    "                                                                     \"bn_size\": 4,\n",
    "                                                                     \"growth_rate\": 32,\n",
    "                                                                     \"act_fn\": nn.relu},\n",
    "                                                      optimizer_name=\"adamw\",\n",
    "                                                      optimizer_hparams={\"lr\": 1e-3,\n",
    "                                                                         \"weight_decay\": 1e-4},\n",
    "                                                      exmp_imgs=jax.device_put(\n",
    "                                                          next(iter(train_loader))[0]),\n",
    "                                                      num_epochs=200)"
   ]
  },
  {
   "cell_type": "code",
   "execution_count": 3,
   "id": "931bfcaf-0131-479c-9bbd-29a7796eb07c",
   "metadata": {},
   "outputs": [
    {
     "name": "stdout",
     "output_type": "stream",
     "text": [
      "0.4.14\n"
     ]
    }
   ],
   "source": [
    "print(jax.__version__)"
   ]
  },
  {
   "cell_type": "code",
   "execution_count": 27,
   "id": "ec630455-611a-4f91-a882-b3ad239a5690",
   "metadata": {},
   "outputs": [],
   "source": [
    "# Load tensorboard extension\n",
    "%reload_ext tensorboard"
   ]
  },
  {
   "cell_type": "code",
   "execution_count": 28,
   "id": "fa76a65d-d6f9-43cb-a4b4-f07f3f9ddc2c",
   "metadata": {},
   "outputs": [
    {
     "data": {
      "text/plain": [
       "Reusing TensorBoard on port 6006 (pid 1562252), started 0:15:14 ago. (Use '!kill 1562252' to kill it.)"
      ]
     },
     "metadata": {},
     "output_type": "display_data"
    },
    {
     "data": {
      "text/html": [
       "\n",
       "      <iframe id=\"tensorboard-frame-3a4b994b3032a9a8\" width=\"100%\" height=\"800\" frameborder=\"0\">\n",
       "      </iframe>\n",
       "      <script>\n",
       "        (function() {\n",
       "          const frame = document.getElementById(\"tensorboard-frame-3a4b994b3032a9a8\");\n",
       "          const url = new URL(\"/\", window.location);\n",
       "          const port = 6006;\n",
       "          if (port) {\n",
       "            url.port = port;\n",
       "          }\n",
       "          frame.src = url;\n",
       "        })();\n",
       "      </script>\n",
       "    "
      ],
      "text/plain": [
       "<IPython.core.display.HTML object>"
      ]
     },
     "metadata": {},
     "output_type": "display_data"
    }
   ],
   "source": [
    "%tensorboard --logdir ./notebook_output/saved_models/DenseNet"
   ]
  }
 ],
 "metadata": {
  "kernelspec": {
   "display_name": "Python 3 (ipykernel)",
   "language": "python",
   "name": "python3"
  },
  "language_info": {
   "codemirror_mode": {
    "name": "ipython",
    "version": 3
   },
   "file_extension": ".py",
   "mimetype": "text/x-python",
   "name": "python",
   "nbconvert_exporter": "python",
   "pygments_lexer": "ipython3",
   "version": "3.11.6"
  }
 },
 "nbformat": 4,
 "nbformat_minor": 5
}
